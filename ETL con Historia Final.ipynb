{
 "cells": [
  {
   "cell_type": "markdown",
   "id": "1a65ca89",
   "metadata": {},
   "source": [
    "# Mi primer proceso ETL"
   ]
  },
  {
   "cell_type": "markdown",
   "id": "7129b973",
   "metadata": {},
   "source": [
    "Para el siguiente proceso de ETL se van a realizar todas las dimensiones excepto Fecha_Aeropuerto pues es una dimensión autogenerada.  \n",
    "\n",
    "Por otro lado, para cada una de las tablas vamos a seleccionar las variables correspondientes, en este caso ninguna tabla tiene información de más de una tabla, por lo tanto no hay que hacer ningún joint. Posteriormente se borrarán los datos repetidos y se generará un id único como clave primaria. Para las tablas que tienen una llave secundaria se va a hacer un join inicial sobre las primeras tablas y posteriormente se filtrarán los datos. \n",
    "El único atributo de una tabla que no existía en las tablas iniciales es trimestre (en la dimensión fecha), se hace la construcción dependiedo del mes.\n",
    "Al mismo tiempo se realiza la creación de la dimensión aeropuerto la cual contiene la historia de los cambios en infraestructura de estos.\n",
    "\n",
    "Primero importamos todas las librerías a utilizar:"
   ]
  },
  {
   "cell_type": "code",
   "execution_count": 44,
   "id": "302993f6",
   "metadata": {},
   "outputs": [],
   "source": [
    "from pyspark.sql import SparkSession\n",
    "from pyspark.sql import functions\n",
    "from pyspark.sql.types import StructType\n",
    "from pyspark import SparkContext, SparkConf, SQLContext\n",
    "from pyspark.sql.types import FloatType\n",
    "from pyspark.sql.functions import udf, monotonically_increasing_id\n",
    "from pyspark.sql.types import IntegerType,DateType,DoubleType, StringType\n",
    "\n",
    "import os "
   ]
  },
  {
   "cell_type": "code",
   "execution_count": 45,
   "id": "6dd9889b",
   "metadata": {},
   "outputs": [],
   "source": [
    "os.environ['PYSPARK_SUBMIT_ARGS'] = '--jars /usr/share/java/mariadb-java-client-2.5.3.jar pyspark-shell'"
   ]
  },
  {
   "cell_type": "markdown",
   "id": "1cf82329",
   "metadata": {},
   "source": [
    "Configuramos la sesión de pyspark"
   ]
  },
  {
   "cell_type": "code",
   "execution_count": 48,
   "id": "be4d509e",
   "metadata": {
    "scrolled": true
   },
   "outputs": [],
   "source": [
    "spark_context = SparkContext()\n",
    "sql_context = SQLContext(spark_context)\n",
    "spark = sql_context.sparkSession"
   ]
  },
  {
   "cell_type": "markdown",
   "id": "02535c91",
   "metadata": {},
   "source": [
    "### Cargamos las nuevas tablas de vuelos desde el csv\n"
   ]
  },
  {
   "cell_type": "code",
   "execution_count": 10,
   "id": "3a718198",
   "metadata": {
    "scrolled": false
   },
   "outputs": [
    {
     "name": "stdout",
     "output_type": "stream",
     "text": [
      "+----+---+------+-------+-----------+----------+-------+---------------+------+------+--------------+---------+-----------+\n",
      "| ano|mes|origen|destino|tipo_equipo|tipo_vuelo|trafico|        empresa|vuelos|sillas|carga_ofrecida|pasajeros|carga_bordo|\n",
      "+----+---+------+-------+-----------+----------+-------+---------------+------+------+--------------+---------+-----------+\n",
      "|2010|  3|   ADZ|    BOG|       C560|         T|      N|CENTRAL CHARTER|     1|     0|           0.0|        7|        0.0|\n",
      "|2010|  5|   ADZ|    BOG|       C560|         T|      N|CENTRAL CHARTER|     1|     0|           0.0|        8|        0.0|\n",
      "|2010|  6|   ADZ|    CLO|       C560|         T|      N|CENTRAL CHARTER|     1|     0|           0.0|        8|        0.0|\n",
      "|2010|  8|   ADZ|    CLO|       C560|         T|      N|CENTRAL CHARTER|     1|     0|           0.0|        6|        0.0|\n",
      "|2010| 10|   ADZ|    CLO|       C560|         T|      N|CENTRAL CHARTER|     1|     0|           0.0|        8|        0.0|\n",
      "|2010|  6|   ADZ|    CLO|       H25B|         T|      N|CENTRAL CHARTER|     1|     0|           0.0|        7|        0.0|\n",
      "|2010|  8|   ADZ|    CLO|       H25B|         T|      N|CENTRAL CHARTER|     1|     0|           0.0|        8|        0.0|\n",
      "|2010|  7|   BAQ|    BOG|       BE30|         T|      N|CENTRAL CHARTER|     1|     0|           0.0|        2|        0.0|\n",
      "|2010| 12|   BAQ|    BOG|       BE30|         T|      N|CENTRAL CHARTER|     1|     0|           0.0|        2|        0.0|\n",
      "|2010|  4|   BAQ|    BOG|       C560|         T|      N|CENTRAL CHARTER|     1|     0|           0.0|        8|        0.0|\n",
      "|2010|  5|   BAQ|    CAQ|       BE30|         T|      N|CENTRAL CHARTER|     2|     0|           0.0|        7|        0.0|\n",
      "|2010|  6|   BAQ|    CLO|       H25B|         T|      N|CENTRAL CHARTER|     1|     0|           0.0|        6|        0.0|\n",
      "|2010|  3|   BAQ|    CTG|       C560|         T|      N|CENTRAL CHARTER|     1|     0|           0.0|        4|        0.0|\n",
      "|2010|  9|   BAQ|    VUP|       BE30|         T|      N|CENTRAL CHARTER|     1|     0|           0.0|        4|        0.0|\n",
      "|2010|  3|   BOG|    BAQ|       BE30|         T|      N|CENTRAL CHARTER|     1|     0|           0.0|        5|        0.0|\n",
      "|2010|  4|   BOG|    BAQ|       BE30|         T|      N|CENTRAL CHARTER|     1|     0|           0.0|        1|        0.0|\n",
      "|2010|  3|   BOG|    BAQ|       C560|         T|      N|CENTRAL CHARTER|     1|     0|           0.0|        8|        0.0|\n",
      "|2010|  5|   BOG|    BAQ|       C560|         T|      N|CENTRAL CHARTER|     1|     0|           0.0|        8|        0.0|\n",
      "|2010|  3|   BOG|    BUN|       C560|         T|      N|CENTRAL CHARTER|     1|     0|           0.0|        5|        0.0|\n",
      "|2010|  4|   BOG|    BUN|       C560|         T|      N|CENTRAL CHARTER|     1|     0|           0.0|        6|        0.0|\n",
      "+----+---+------+-------+-----------+----------+-------+---------------+------+------+--------------+---------+-----------+\n",
      "only showing top 20 rows\n",
      "\n"
     ]
    }
   ],
   "source": [
    "df_vuelos = spark.read.load(\"vuelosEtapa2.csv\",format=\"csv\", sep=\",\", inferSchema=\"true\", header=\"true\")\n",
    "df_vuelos = df_vuelos.replace(\"nan\", None)\n",
    "df_vuelos = df_vuelos.withColumn(\"sillas\",df_vuelos.sillas.cast(IntegerType()))\n",
    "df_vuelos = df_vuelos.withColumn(\"pasajeros\",df_vuelos.pasajeros.cast(IntegerType()))\n",
    "df_vuelos = df_vuelos.withColumn(\"vuelos\",df_vuelos.vuelos.cast(IntegerType()))\n",
    "df_vuelos.show()"
   ]
  },
  {
   "cell_type": "code",
   "execution_count": 22,
   "id": "3df44219",
   "metadata": {
    "scrolled": true
   },
   "outputs": [
    {
     "name": "stdout",
     "output_type": "stream",
     "text": [
      "+-----+----+--------------------+-------------------+------------+---------+-------+--------+--------------------+--------------------+--------------+-----------+------+---------+----------+------------------+--------------+-----+----------+--------------------+----------------+-------------+----+\n",
      "|sigla|iata|              nombre|          municipio|departamento|categoria|latitud|longitud|         propietario|          explotador|longitud_pista|ancho_pista|  pbmo|elevacion|resolucion|fecha_construccion|fecha_vigencia|clase|      tipo|numero_vuelos_origen|gcd_departamento|gcd_municipio| Ano|\n",
      "+-----+----+--------------------+-------------------+------------+---------+-------+--------+--------------------+--------------------+--------------+-----------+------+---------+----------+------------------+--------------+-----+----------+--------------------+----------------+-------------+----+\n",
      "|  7FO|null|             LA ISLA|      Puerto Gaitán|        Meta|Aeródromo| 4.4211|-71.6271|LA ISLA Y EL ROSA...|       LA CEIBA S.A.|        1079.0|       19.0|3000.0|    538.0|  1325,000|        2015-06-05|    2018-06-11|   1A|Fumigación|                   2|              50|        50568|2015|\n",
      "|  7FO|null|             LA ISLA|      Puerto Gaitán|        Meta|Aeródromo| 4.4211|-71.6271|LA ISLA Y EL ROSA...|       LA CEIBA S.A.|        1321.0|       38.0|3000.0|    538.0|  1325,000|        2015-06-05|    2018-06-11|   1A|Fumigación|                   2|              50|        50568|2016|\n",
      "|  7FU|null|        LA ESCONDIDA|      Puerto Gaitán|        Meta|Aeródromo| 4.6108|-71.1935|PALMAS SICARARE S...|      COSARGO S.A.S.|        2141.0|       17.0|5000.0|    564.0|  1843,000|        2013-04-26|    2016-05-07|   1A| Aerocivil|                  24|              50|        50568|2014|\n",
      "|  7FU|null|        LA ESCONDIDA|      Puerto Gaitán|        Meta|Aeródromo| 4.6108|-71.1935|PALMAS SICARARE S...|      COSARGO S.A.S.|        3853.0|        5.0|5000.0|    564.0|  1843,000|        2013-04-26|    2016-05-07|   1A| Aerocivil|                  24|              50|        50568|2015|\n",
      "|  7FU|null|        LA ESCONDIDA|      Puerto Gaitán|        Meta|Aeródromo| 4.6108|-71.1935|PALMAS SICARARE S...|      COSARGO S.A.S.|        6667.0|        5.0|5000.0|    564.0|  1843,000|        2013-04-26|    2016-05-07|   1A|   Público|                  12|              50|        50568|2016|\n",
      "|  7FW|null|           MORICHITO|       Hato Corozal|    Casanare|Aeródromo| 5.9188|-71.7932|      CARMEN NARANJO| ROBERTO C. RIAÑO P.|        1361.0|       14.0|3500.0|    720.0|  2220,000|        2009-05-07|          null|   1A|   Privado|                   0|              85|        85125|2014|\n",
      "|  7FW|null|           MORICHITO|       Hato Corozal|    Casanare|Aeródromo| 5.9188|-71.7932|      CARMEN NARANJO| ROBERTO C. RIAÑO P.|        1442.0|        4.0|3500.0|    720.0|  2220,000|        2009-05-07|          null|   1A|Fumigación|                   0|              85|        85125|2015|\n",
      "|  7FW|null|           MORICHITO|       Hato Corozal|    Casanare|Aeródromo| 5.9188|-71.7932|      CARMEN NARANJO| ROBERTO C. RIAÑO P.|        2411.0|        1.0|3500.0|    720.0|  2220,000|        2009-05-07|          null|   1A| Aerocivil|                   0|              85|        85125|2016|\n",
      "|  7FX|null|CAROLINA DEL PRIN...|           Carolina|   Antioquia|Aeródromo| 6.7248|-75.2909|           MUNICIPIO|           MUNICIPIO|         452.0|        0.0|1000.0|   6004.0|  6470,000|        2013-11-19|          null|   1A|   Público|                   0|               5|         5150|2014|\n",
      "|  7FX|null|CAROLINA DEL PRIN...|           Carolina|   Antioquia|Aeródromo| 6.7248|-75.2909|           MUNICIPIO|           MUNICIPIO|         518.0|        0.0|1000.0|   6004.0|  6470,000|        2013-11-19|          null|   1A|Fumigación|                   0|               5|         5150|2015|\n",
      "|  7FX|null|CAROLINA DEL PRIN...|           Carolina|   Antioquia|Aeródromo| 6.7248|-75.2909|           MUNICIPIO|           MUNICIPIO|         982.0|        0.0|1000.0|   6004.0|  6470,000|        2013-11-19|          null|   1A|   Público|                   0|               5|         5150|2016|\n",
      "|  7FY|null|               DUBAI|             Ayapel|     Córdoba|Aeródromo|  8.296|-75.0307|ANDRES D. LONDOÑO T.|ANDRES D. LONDOÑO T.|         426.0|       15.0| 500.0|     82.0|  1212,000|        2013-03-20|          null|   1A|Fumigación|                   0|              23|        23068|2014|\n",
      "|  7FY|null|               DUBAI|             Ayapel|     Córdoba|Aeródromo|  8.296|-75.0307|ANDRES D. LONDOÑO T.|ANDRES D. LONDOÑO T.|         814.0|       15.0| 500.0|     82.0|  1212,000|        2013-03-20|          null|   1A| Aerocivil|                   0|              23|        23068|2015|\n",
      "|  7FY|null|               DUBAI|             Ayapel|     Córdoba|Aeródromo|  8.296|-75.0307|ANDRES D. LONDOÑO T.|ANDRES D. LONDOÑO T.|        1592.0|       21.0| 500.0|     82.0|  1212,000|        2013-03-20|          null|   1A|   Privado|                   0|              23|        23068|2016|\n",
      "|  7FZ|null|          EL TRIUNFO|             Orocué|    Casanare|Aeródromo| 4.8095| -71.667|ERNESTO J. PEREZ ...|            EL MISMO|         630.0|       25.0|3000.0|    475.0|  5532,000|        2014-11-11|          null|   1A|   Privado|                   2|              85|        85230|2014|\n",
      "|  7FZ|null|          EL TRIUNFO|             Orocué|    Casanare|Aeródromo| 4.8095| -71.667|ERNESTO J. PEREZ ...|            EL MISMO|         363.0|       42.0|3000.0|    475.0|  5532,000|        2014-11-11|          null|   1A|   Público|                   2|              85|        85230|2015|\n",
      "|  7FZ|null|          EL TRIUNFO|             Orocué|    Casanare|Aeródromo| 4.8095| -71.667|ERNESTO J. PEREZ ...|            EL MISMO|           5.0|       66.0|3000.0|    475.0|  5532,000|        2014-11-11|          null|   1A| Aerocivil|                   2|              85|        85230|2016|\n",
      "|  7GA|null|  BARU - HIDROPUERTO|Cartagena de Indias|     Bolívar|Aeródromo|10.2321|-75.5877|MAURICIO E. VASQU...|            EL MISMO|         269.0|       27.0| 500.0|      0.0|  6067,000|        2012-10-25|    2015-11-07|   1A|   Público|                   0|              13|        13001|2014|\n",
      "|  7GA|null|  BARU - HIDROPUERTO|Cartagena de Indias|     Bolívar|Aeródromo|10.2321|-75.5877|MAURICIO E. VASQU...|            EL MISMO|         204.0|       46.0| 500.0|      0.0|  6067,000|        2012-10-25|    2015-11-07|   1A|   Público|                   0|              13|        13001|2015|\n",
      "|  7GA|null|  BARU - HIDROPUERTO|Cartagena de Indias|     Bolívar|Aeródromo|10.2321|-75.5877|MAURICIO E. VASQU...|            EL MISMO|         106.0|       69.0| 500.0|      0.0|  6067,000|        2012-10-25|    2015-11-07|   1A|   Público|                   0|              13|        13001|2016|\n",
      "+-----+----+--------------------+-------------------+------------+---------+-------+--------+--------------------+--------------------+--------------+-----------+------+---------+----------+------------------+--------------+-----+----------+--------------------+----------------+-------------+----+\n",
      "only showing top 20 rows\n",
      "\n"
     ]
    }
   ],
   "source": [
    "df_aeropuertos = spark.read.load(\"aeropuertos_cambios_infraestructura.csv\",format=\"csv\", sep=\",\", inferSchema=\"true\", header=\"true\")\n",
    "df_aeropuertos = df_aeropuertos.replace(\"nan\", None)\n",
    "df_aeropuertos = df_aeropuertos.drop(\"_c0\")\n",
    "df_aeropuertos = df_aeropuertos.withColumn(\"pbmo\",df_aeropuertos.pbmo.cast(DoubleType()))\n",
    "df_aeropuertos = df_aeropuertos.withColumn(\"fecha_construccion\",df_aeropuertos.fecha_construccion.cast(DateType()))\n",
    "df_aeropuertos = df_aeropuertos.withColumn(\"fecha_vigencia\",df_aeropuertos.fecha_vigencia.cast(DateType()))\n",
    "df_aeropuertos = df_aeropuertos.withColumn(\"numero_vuelos_origen\",df_aeropuertos.numero_vuelos_origen.cast(IntegerType()))\n",
    "df_aeropuertos = df_aeropuertos.withColumn(\"gcd_departamento\",df_aeropuertos.gcd_departamento.cast(StringType()))\n",
    "df_aeropuertos = df_aeropuertos.withColumn(\"gcd_municipio\",df_aeropuertos.gcd_municipio.cast(StringType()))\n",
    "df_aeropuertos.show()"
   ]
  },
  {
   "cell_type": "markdown",
   "id": "a5fe523f",
   "metadata": {},
   "source": [
    "### Se crea la dimensión aeropuerto con historia\n",
    "\n",
    "En este caso se carga la tabla y al mismo tiempo se crea la dimensión aeropuerto. En la cual se realizan cambios con respecto a la creación de la dimensión aeropuertos en el ETL con historia. Como se mencionó en la Wiki, se crearon tres columnas adicionales \"InicioVigencia\", \"FinalVigencia\" y \"Actual\". Todo esto se realiza en el código que se presenta a continuación y finalmente se deja la dimensión aeropuerto en \"aeropuertos_df\"."
   ]
  },
  {
   "cell_type": "code",
   "execution_count": 23,
   "id": "cb20d1d4",
   "metadata": {
    "scrolled": true
   },
   "outputs": [
    {
     "name": "stdout",
     "output_type": "stream",
     "text": [
      "+-----+----+--------------------+-------------------+------------+---------+-------+--------+--------------------+--------------------+--------------+-----------+------+---------+----------+------------------+--------------+-----+----------+--------------------+----------------+-------------+----+-------------+------+-------------+\n",
      "|sigla|iata|              nombre|          municipio|departamento|categoria|latitud|longitud|         propietario|          explotador|longitud_pista|ancho_pista|  pbmo|elevacion|resolucion|fecha_construccion|fecha_vigencia|clase|      tipo|numero_vuelos_origen|gcd_departamento|gcd_municipio| ano|FinalVigencia|Actual|id_aeropuerto|\n",
      "+-----+----+--------------------+-------------------+------------+---------+-------+--------+--------------------+--------------------+--------------+-----------+------+---------+----------+------------------+--------------+-----+----------+--------------------+----------------+-------------+----+-------------+------+-------------+\n",
      "|  7FO|null|             LA ISLA|      Puerto Gaitán|        Meta|Aeródromo| 4.4211|-71.6271|LA ISLA Y EL ROSA...|       LA CEIBA S.A.|        1079.0|       19.0|3000.0|    538.0|  1325,000|        2015-06-05|    2018-06-11|   1A|Fumigación|                   2|              50|        50568|2015|   2015-12-31|     N|            0|\n",
      "|  7FO|null|             LA ISLA|      Puerto Gaitán|        Meta|Aeródromo| 4.4211|-71.6271|LA ISLA Y EL ROSA...|       LA CEIBA S.A.|        1321.0|       38.0|3000.0|    538.0|  1325,000|        2015-06-05|    2018-06-11|   1A|Fumigación|                   2|              50|        50568|2016|   2016-12-31|     S|            1|\n",
      "|  7FU|null|        LA ESCONDIDA|      Puerto Gaitán|        Meta|Aeródromo| 4.6108|-71.1935|PALMAS SICARARE S...|      COSARGO S.A.S.|        2141.0|       17.0|5000.0|    564.0|  1843,000|        2013-04-26|    2016-05-07|   1A| Aerocivil|                  24|              50|        50568|2014|   2014-12-31|     N|            2|\n",
      "|  7FU|null|        LA ESCONDIDA|      Puerto Gaitán|        Meta|Aeródromo| 4.6108|-71.1935|PALMAS SICARARE S...|      COSARGO S.A.S.|        3853.0|        5.0|5000.0|    564.0|  1843,000|        2013-04-26|    2016-05-07|   1A| Aerocivil|                  24|              50|        50568|2015|   2015-12-31|     N|            3|\n",
      "|  7FU|null|        LA ESCONDIDA|      Puerto Gaitán|        Meta|Aeródromo| 4.6108|-71.1935|PALMAS SICARARE S...|      COSARGO S.A.S.|        6667.0|        5.0|5000.0|    564.0|  1843,000|        2013-04-26|    2016-05-07|   1A|   Público|                  12|              50|        50568|2016|   2016-12-31|     S|            4|\n",
      "|  7FW|null|           MORICHITO|       Hato Corozal|    Casanare|Aeródromo| 5.9188|-71.7932|      CARMEN NARANJO| ROBERTO C. RIAÑO P.|        1361.0|       14.0|3500.0|    720.0|  2220,000|        2009-05-07|          null|   1A|   Privado|                   0|              85|        85125|2014|   2014-12-31|     N|            5|\n",
      "|  7FW|null|           MORICHITO|       Hato Corozal|    Casanare|Aeródromo| 5.9188|-71.7932|      CARMEN NARANJO| ROBERTO C. RIAÑO P.|        1442.0|        4.0|3500.0|    720.0|  2220,000|        2009-05-07|          null|   1A|Fumigación|                   0|              85|        85125|2015|   2015-12-31|     N|            6|\n",
      "|  7FW|null|           MORICHITO|       Hato Corozal|    Casanare|Aeródromo| 5.9188|-71.7932|      CARMEN NARANJO| ROBERTO C. RIAÑO P.|        2411.0|        1.0|3500.0|    720.0|  2220,000|        2009-05-07|          null|   1A| Aerocivil|                   0|              85|        85125|2016|   2016-12-31|     S|            7|\n",
      "|  7FX|null|CAROLINA DEL PRIN...|           Carolina|   Antioquia|Aeródromo| 6.7248|-75.2909|           MUNICIPIO|           MUNICIPIO|         452.0|        0.0|1000.0|   6004.0|  6470,000|        2013-11-19|          null|   1A|   Público|                   0|               5|         5150|2014|   2014-12-31|     N|            8|\n",
      "|  7FX|null|CAROLINA DEL PRIN...|           Carolina|   Antioquia|Aeródromo| 6.7248|-75.2909|           MUNICIPIO|           MUNICIPIO|         518.0|        0.0|1000.0|   6004.0|  6470,000|        2013-11-19|          null|   1A|Fumigación|                   0|               5|         5150|2015|   2015-12-31|     N|            9|\n",
      "|  7FX|null|CAROLINA DEL PRIN...|           Carolina|   Antioquia|Aeródromo| 6.7248|-75.2909|           MUNICIPIO|           MUNICIPIO|         982.0|        0.0|1000.0|   6004.0|  6470,000|        2013-11-19|          null|   1A|   Público|                   0|               5|         5150|2016|   2016-12-31|     S|           10|\n",
      "|  7FY|null|               DUBAI|             Ayapel|     Córdoba|Aeródromo|  8.296|-75.0307|ANDRES D. LONDOÑO T.|ANDRES D. LONDOÑO T.|         426.0|       15.0| 500.0|     82.0|  1212,000|        2013-03-20|          null|   1A|Fumigación|                   0|              23|        23068|2014|   2014-12-31|     N|           11|\n",
      "|  7FY|null|               DUBAI|             Ayapel|     Córdoba|Aeródromo|  8.296|-75.0307|ANDRES D. LONDOÑO T.|ANDRES D. LONDOÑO T.|         814.0|       15.0| 500.0|     82.0|  1212,000|        2013-03-20|          null|   1A| Aerocivil|                   0|              23|        23068|2015|   2015-12-31|     N|           12|\n",
      "|  7FY|null|               DUBAI|             Ayapel|     Córdoba|Aeródromo|  8.296|-75.0307|ANDRES D. LONDOÑO T.|ANDRES D. LONDOÑO T.|        1592.0|       21.0| 500.0|     82.0|  1212,000|        2013-03-20|          null|   1A|   Privado|                   0|              23|        23068|2016|   2016-12-31|     S|           13|\n",
      "|  7FZ|null|          EL TRIUNFO|             Orocué|    Casanare|Aeródromo| 4.8095| -71.667|ERNESTO J. PEREZ ...|            EL MISMO|         630.0|       25.0|3000.0|    475.0|  5532,000|        2014-11-11|          null|   1A|   Privado|                   2|              85|        85230|2014|   2014-12-31|     N|           14|\n",
      "|  7FZ|null|          EL TRIUNFO|             Orocué|    Casanare|Aeródromo| 4.8095| -71.667|ERNESTO J. PEREZ ...|            EL MISMO|         363.0|       42.0|3000.0|    475.0|  5532,000|        2014-11-11|          null|   1A|   Público|                   2|              85|        85230|2015|   2015-12-31|     N|           15|\n",
      "|  7FZ|null|          EL TRIUNFO|             Orocué|    Casanare|Aeródromo| 4.8095| -71.667|ERNESTO J. PEREZ ...|            EL MISMO|           5.0|       66.0|3000.0|    475.0|  5532,000|        2014-11-11|          null|   1A| Aerocivil|                   2|              85|        85230|2016|   2016-12-31|     S|           16|\n",
      "|  7GA|null|  BARU - HIDROPUERTO|Cartagena de Indias|     Bolívar|Aeródromo|10.2321|-75.5877|MAURICIO E. VASQU...|            EL MISMO|         269.0|       27.0| 500.0|      0.0|  6067,000|        2012-10-25|    2015-11-07|   1A|   Público|                   0|              13|        13001|2014|   2014-12-31|     N|           17|\n",
      "|  7GA|null|  BARU - HIDROPUERTO|Cartagena de Indias|     Bolívar|Aeródromo|10.2321|-75.5877|MAURICIO E. VASQU...|            EL MISMO|         204.0|       46.0| 500.0|      0.0|  6067,000|        2012-10-25|    2015-11-07|   1A|   Público|                   0|              13|        13001|2015|   2015-12-31|     N|           18|\n",
      "|  7GA|null|  BARU - HIDROPUERTO|Cartagena de Indias|     Bolívar|Aeródromo|10.2321|-75.5877|MAURICIO E. VASQU...|            EL MISMO|         106.0|       69.0| 500.0|      0.0|  6067,000|        2012-10-25|    2015-11-07|   1A|   Público|                   0|              13|        13001|2016|   2016-12-31|     S|           19|\n",
      "+-----+----+--------------------+-------------------+------------+---------+-------+--------+--------------------+--------------------+--------------+-----------+------+---------+----------+------------------+--------------+-----+----------+--------------------+----------------+-------------+----+-------------+------+-------------+\n",
      "only showing top 20 rows\n",
      "\n"
     ]
    }
   ],
   "source": [
    "Inicio_udf = udf(lambda x: str(x) +'-01-01', StringType())\n",
    "Final_udf = udf(lambda x: str(x) +'-12-31', StringType())\n",
    "aeropuertos = df_aeropuertos.withColumn(\"InicioVigencia\", Inicio_udf(df_aeropuertos[\"Ano\"]))\n",
    "aeropuertos = aeropuertos.withColumn(\"InicioVigencia\",aeropuertos.InicioVigencia.cast(DateType()))\n",
    "aeropuertos = df_aeropuertos.withColumn(\"FinalVigencia\", Final_udf(df_aeropuertos[\"Ano\"]))\n",
    "aeropuertos = aeropuertos.withColumn(\"FinalVigencia\",aeropuertos.FinalVigencia.cast(DateType()))\n",
    "\n",
    "aeropuertos = aeropuertos.withColumn('Actual', functions.when(aeropuertos['Ano'] == aeropuertos.select(\"Ano\").rdd.max()[0], \"S\").otherwise(\"N\"))\n",
    "aeropuertos = aeropuertos.withColumn(\"id_aeropuerto\", monotonically_increasing_id())\n",
    "aeropuertos = aeropuertos.withColumnRenamed('Ano','ano')\n",
    "aeropuertos.show()"
   ]
  },
  {
   "cell_type": "markdown",
   "id": "ff5ede97",
   "metadata": {},
   "source": [
    "### Creamos las dimensiones restantes y la tabla de hechos"
   ]
  },
  {
   "cell_type": "code",
   "execution_count": 24,
   "id": "74c73700",
   "metadata": {},
   "outputs": [],
   "source": [
    "def dimension_fecha(aeropuertos, vuelos):\n",
    "    fecha = vuelos.select(\"ano\", \"mes\").distinct().dropna()\n",
    "    fecha = fecha.withColumn(\"id_fecha\", monotonically_increasing_id()+1)\n",
    "    def trimestre (mes):\n",
    "        if mes < 4:\n",
    "            return(1)\n",
    "        elif mes < 7:\n",
    "            return(2)\n",
    "        elif mes < 10:\n",
    "            return(3)\n",
    "        else:\n",
    "            return(4)\n",
    "    trimestre_udf = udf(lambda x: trimestre(x), IntegerType())\n",
    "    fecha = fecha.withColumn(\"trimestre\", trimestre_udf(fecha[\"mes\"]))\n",
    "    \n",
    "    return(fecha)\n",
    "\n",
    "def dimension_aerolinea(aeropuertos, vuelos):\n",
    "    aerolinea = vuelos.select(\"empresa\").distinct().sort(\"empresa\").dropna()\n",
    "    aerolinea = aerolinea.withColumn(\"id_aerolinea\", monotonically_increasing_id()+1)\n",
    "    return(aerolinea)\n",
    "\n",
    "def dimension_operacion(aeropuertos, vuelos):\n",
    "    operacion = vuelos.select(\"tipo_vuelo\").distinct().dropna()\n",
    "    operacion = operacion.withColumn(\"id_operacion\", monotonically_increasing_id()+1)\n",
    "    return(operacion)\n",
    "\n",
    "def dimension_avion(aeropuertos, vuelos):\n",
    "    avion = vuelos.select(\"tipo_equipo\").distinct().dropna()\n",
    "    avion = avion.withColumn(\"id_avion\", monotonically_increasing_id()+1)\n",
    "    return(avion)\n",
    "\n",
    "def dimension_trafico(aeropuertos, vuelos):\n",
    "    trafico = vuelos.select(\"trafico\").distinct().dropna()\n",
    "    trafico = trafico.withColumn(\"id_trafico\", monotonically_increasing_id()+1)\n",
    "    return(trafico)\n",
    "\n",
    "def tabla_hechos_vuelos(aeropuertos, vuelos, aerolinea,operacion, avion, trafico, fecha, aeropuerto):\n",
    "    vuelos = vuelos.join(aerolinea, how='inner', on='empresa')\n",
    "    vuelos = vuelos.join(operacion, how='inner', on='tipo_vuelo')\n",
    "    vuelos = vuelos.join(avion, how='inner', on='tipo_equipo')\n",
    "    vuelos = vuelos.join(trafico, how='inner', on='trafico')\n",
    "    vuelos = vuelos.join(fecha, how='inner', on=[\"ano\", \"mes\"])\n",
    "    vuelos = vuelos.join(aeropuerto.withColumnRenamed('sigla', 'origen'), how='inner', on = [\"origen\", \"ano\"])\n",
    "    vuelos = vuelos.withColumnRenamed(\"id_aeropuerto\", \"id_origen\")\n",
    "    vuelos = vuelos.join(aeropuerto.withColumnRenamed('sigla', 'destino'), how='inner', on = [\"destino\", \"ano\"])\n",
    "    vuelos = vuelos.withColumnRenamed(\"id_aeropuerto\", \"id_destino\")\n",
    "\n",
    "    \n",
    "    tabla_hechos = vuelos.select(\"vuelos\", \"sillas\", \"pasajeros\", \"carga_ofrecida\", \"carga_bordo\",\n",
    "                                \"id_aerolinea\", \"id_operacion\", \"id_avion\", \"id_trafico\", \"id_fecha\", \"id_origen\", \"id_destino\")\n",
    "    \n",
    "    tabla_hechos = tabla_hechos.withColumn('id_aerolinea', functions.when(tabla_hechos['id_aerolinea'] == 'null', '-1').otherwise(tabla_hechos['id_aerolinea']))\n",
    "    tabla_hechos = tabla_hechos.withColumn('id_operacion', functions.when(tabla_hechos['id_operacion'] == 'null', '-1').otherwise(tabla_hechos['id_operacion']))\n",
    "    tabla_hechos = tabla_hechos.withColumn('id_avion', functions.when(tabla_hechos['id_avion'] == 'null', '-1').otherwise(tabla_hechos['id_avion']))\n",
    "    tabla_hechos = tabla_hechos.withColumn('id_trafico', functions.when(tabla_hechos['id_trafico'] == 'null', '-1').otherwise(tabla_hechos['id_trafico']))\n",
    "    tabla_hechos = tabla_hechos.withColumn('id_fecha', functions.when(tabla_hechos['id_fecha'] == 'null', '-1').otherwise(tabla_hechos['id_fecha']))\n",
    "    tabla_hechos = tabla_hechos.withColumn('id_origen', functions.when(tabla_hechos['id_origen'] == 'null', '-1').otherwise(tabla_hechos['id_origen']))\n",
    "    tabla_hechos = tabla_hechos.withColumn('id_destino', functions.when(tabla_hechos['id_destino'] == 'null', '-1').otherwise(tabla_hechos['id_destino']))\n",
    "    \n",
    "    return(tabla_hechos)"
   ]
  },
  {
   "cell_type": "markdown",
   "id": "6ed323f4",
   "metadata": {},
   "source": [
    "### Creamos el proceso de ETL\n",
    "\n",
    "en este paso llamamos las funciones creadas anteriormente y guardamos cada tabla en un csv diferente. "
   ]
  },
  {
   "cell_type": "code",
   "execution_count": 26,
   "id": "a9378749",
   "metadata": {},
   "outputs": [],
   "source": [
    "def ETL(df_aeropuertos, df_vuelos):\n",
    "    PATH='modelo/'\n",
    "    \n",
    "    fecha = dimension_fecha(df_aeropuertos, df_vuelos)\n",
    "    fecha.toPandas().to_csv(PATH+'dimension_fecha.csv')\n",
    "    print(\"Dimensión Fecha: \\n\")\n",
    "    print(\"Las dimensiones de la base de datos son: \", (fecha.count(), len(fecha.columns)), \"\\n\")\n",
    "    print(\"Las columnas son: \", fecha.columns, \"\\n\")\n",
    "    print(fecha.show(5))\n",
    "    print(\"\\n\")\n",
    "    \n",
    "    \n",
    "    aerolinea = dimension_aerolinea(df_aeropuertos, df_vuelos)\n",
    "    aerolinea.toPandas().to_csv(PATH+'dimension_aerolinea.csv')\n",
    "    print(\"Dimensión aerolinea: \\n\")\n",
    "    print(\"Las dimensiones de la base de datos son: \", (aerolinea.count(), len(aerolinea.columns)), \"\\n\")\n",
    "    print(\"Las columnas son: \", aerolinea.columns, \"\\n\")\n",
    "    print(aerolinea.show(5))\n",
    "    print(\"\\n\")\n",
    "    \n",
    "    operacion = dimension_operacion(df_aeropuertos, df_vuelos)\n",
    "    operacion.toPandas().to_csv(PATH+'dimension_operacion.csv')\n",
    "    print(\"Dimensión operacion: \\n\")\n",
    "    print(\"Las dimensiones de la base de datos son: \", (operacion.count(), len(operacion.columns)), \"\\n\")\n",
    "    print(\"Las columnas son: \", operacion.columns, \"\\n\")\n",
    "    print(operacion.show(5))\n",
    "    print(\"\\n\")\n",
    "    \n",
    "    avion = dimension_avion(df_aeropuertos, df_vuelos)\n",
    "    avion.toPandas().to_csv(PATH+'dimension_avion.csv')\n",
    "    print(\"Dimensión avion: \\n\")\n",
    "    print(\"Las dimensiones de la base de datos son: \", (avion.count(), len(avion.columns)), \"\\n\")\n",
    "    print(\"Las columnas son: \", avion.columns, \"\\n\")\n",
    "    print(avion.show(5))\n",
    "    print(\"\\n\")\n",
    "    \n",
    "    trafico = dimension_trafico(df_aeropuertos, df_vuelos)\n",
    "    trafico.toPandas().to_csv(PATH+'dimension_trafico.csv')\n",
    "    print(\"Dimensión trafico: \\n\")\n",
    "    print(\"Las dimensiones de la base de datos son: \", (trafico.count(), len(trafico.columns)), \"\\n\")\n",
    "    print(\"Las columnas son: \", trafico.columns, \"\\n\")\n",
    "    print(trafico.show(5))\n",
    "    print(\"\\n\")\n",
    "      \n",
    "    \n",
    "    aeropuertos.toPandas().to_csv(PATH+'dimension_aeropuerto_historia.csv')\n",
    "    print(\"Dimensión aeropuerto con historia: \\n\")\n",
    "    print(\"Las dimensiones de la base de datos son: \", (aeropuertos.count(), len(aeropuertos.columns)), \"\\n\")\n",
    "    print(\"Las columnas son: \", aeropuertos.columns, \"\\n\")\n",
    "    print(aeropuertos.show(5))\n",
    "    print(\"\\n\")\n",
    "    \n",
    "    tabla_hechos = tabla_hechos_vuelos(df_aeropuertos, df_vuelos, aerolinea,operacion, avion, trafico, fecha, aeropuerto_historia)\n",
    "    tabla_hechos.toPandas().to_csv(PATH+'tabla_hechos.csv')\n",
    "    print(\"Tabla de Hechos de Vuelos: \\n\")\n",
    "    print(\"Las dimensiones de la base de datos son: \", (tabla_hechos.count(), len(tabla_hechos.columns)), \"\\n\")\n",
    "    print(\"Las columnas son: \", tabla_hechos.columns, \"\\n\")\n",
    "    print(tabla_hechos.show(5))\n",
    "    print(\"\\n\")"
   ]
  },
  {
   "cell_type": "markdown",
   "id": "4aae3b9d",
   "metadata": {},
   "source": [
    "## Ejecutamos lo construido"
   ]
  },
  {
   "cell_type": "code",
   "execution_count": 28,
   "id": "e5aa7d58",
   "metadata": {
    "scrolled": true
   },
   "outputs": [
    {
     "name": "stdout",
     "output_type": "stream",
     "text": [
      "Dimensión Fecha: \n",
      "\n",
      "Las dimensiones de la base de datos son:  (84, 4) \n",
      "\n",
      "Las columnas son:  ['ano', 'mes', 'id_fecha', 'trimestre'] \n",
      "\n",
      "+----+---+------------+---------+\n",
      "| ano|mes|    id_fecha|trimestre|\n",
      "+----+---+------------+---------+\n",
      "|2012| 10| 17179869185|        4|\n",
      "|2010|  7| 42949672961|        3|\n",
      "|2010| 12| 42949672962|        4|\n",
      "|2015|  2| 60129542145|        1|\n",
      "|2014|  4|128849018881|        2|\n",
      "+----+---+------------+---------+\n",
      "only showing top 5 rows\n",
      "\n",
      "None\n",
      "\n",
      "\n",
      "Dimensión aerolinea: \n",
      "\n",
      "Las dimensiones de la base de datos son:  (86, 2) \n",
      "\n",
      "Las columnas son:  ['empresa', 'id_aerolinea'] \n",
      "\n",
      "+--------------------+------------+\n",
      "|             empresa|id_aerolinea|\n",
      "+--------------------+------------+\n",
      "| AER CARIBE LIMITADA|           1|\n",
      "|          AERO APOYO|  8589934593|\n",
      "|AERO SERVICIOS ES...| 17179869185|\n",
      "|AERO TAXI GUAYMAR...| 25769803777|\n",
      "|AEROCHARTER ANDIN...| 34359738369|\n",
      "+--------------------+------------+\n",
      "only showing top 5 rows\n",
      "\n",
      "None\n",
      "\n",
      "\n",
      "Dimensión operacion: \n",
      "\n",
      "Las dimensiones de la base de datos son:  (4, 2) \n",
      "\n",
      "Las columnas son:  ['tipo_vuelo', 'id_operacion'] \n",
      "\n",
      "+----------+-------------+\n",
      "|tipo_vuelo| id_operacion|\n",
      "+----------+-------------+\n",
      "|         T| 377957122049|\n",
      "|         C| 764504178689|\n",
      "|         A| 910533066753|\n",
      "|         R|1108101562369|\n",
      "+----------+-------------+\n",
      "\n",
      "None\n",
      "\n",
      "\n",
      "Dimensión avion: \n",
      "\n",
      "Las dimensiones de la base de datos son:  (111, 2) \n",
      "\n",
      "Las columnas son:  ['tipo_equipo', 'id_avion'] \n",
      "\n",
      "+-----------+-----------+\n",
      "|tipo_equipo|   id_avion|\n",
      "+-----------+-----------+\n",
      "|       BE30|          1|\n",
      "|       B762|          2|\n",
      "|       G200| 8589934593|\n",
      "|       F100|68719476737|\n",
      "|        727|77309411329|\n",
      "+-----------+-----------+\n",
      "only showing top 5 rows\n",
      "\n",
      "None\n",
      "\n",
      "\n",
      "Dimensión trafico: \n",
      "\n",
      "Las dimensiones de la base de datos son:  (1, 2) \n",
      "\n",
      "Las columnas son:  ['trafico', 'id_trafico'] \n",
      "\n",
      "+-------+------------+\n",
      "|trafico|  id_trafico|\n",
      "+-------+------------+\n",
      "|      N|962072674305|\n",
      "+-------+------------+\n",
      "\n",
      "None\n",
      "\n",
      "\n",
      "Dimensión aeropuerto con historia: \n",
      "\n",
      "Las dimensiones de la base de datos son:  (863, 26) \n",
      "\n",
      "Las columnas son:  ['sigla', 'iata', 'nombre', 'municipio', 'departamento', 'categoria', 'latitud', 'longitud', 'propietario', 'explotador', 'longitud_pista', 'ancho_pista', 'pbmo', 'elevacion', 'resolucion', 'fecha_construccion', 'fecha_vigencia', 'clase', 'tipo', 'numero_vuelos_origen', 'gcd_departamento', 'gcd_municipio', 'ano', 'FinalVigencia', 'Actual', 'id_aeropuerto'] \n",
      "\n",
      "+-----+----+------------+-------------+------------+---------+-------+--------+--------------------+--------------+--------------+-----------+------+---------+----------+------------------+--------------+-----+----------+--------------------+----------------+-------------+----+-------------+------+-------------+\n",
      "|sigla|iata|      nombre|    municipio|departamento|categoria|latitud|longitud|         propietario|    explotador|longitud_pista|ancho_pista|  pbmo|elevacion|resolucion|fecha_construccion|fecha_vigencia|clase|      tipo|numero_vuelos_origen|gcd_departamento|gcd_municipio| ano|FinalVigencia|Actual|id_aeropuerto|\n",
      "+-----+----+------------+-------------+------------+---------+-------+--------+--------------------+--------------+--------------+-----------+------+---------+----------+------------------+--------------+-----+----------+--------------------+----------------+-------------+----+-------------+------+-------------+\n",
      "|  7FO|null|     LA ISLA|Puerto Gaitán|        Meta|Aeródromo| 4.4211|-71.6271|LA ISLA Y EL ROSA...| LA CEIBA S.A.|        1079.0|       19.0|3000.0|    538.0|  1325,000|        2015-06-05|    2018-06-11|   1A|Fumigación|                   2|              50|        50568|2015|   2015-12-31|     N|            0|\n",
      "|  7FO|null|     LA ISLA|Puerto Gaitán|        Meta|Aeródromo| 4.4211|-71.6271|LA ISLA Y EL ROSA...| LA CEIBA S.A.|        1321.0|       38.0|3000.0|    538.0|  1325,000|        2015-06-05|    2018-06-11|   1A|Fumigación|                   2|              50|        50568|2016|   2016-12-31|     S|            1|\n",
      "|  7FU|null|LA ESCONDIDA|Puerto Gaitán|        Meta|Aeródromo| 4.6108|-71.1935|PALMAS SICARARE S...|COSARGO S.A.S.|        2141.0|       17.0|5000.0|    564.0|  1843,000|        2013-04-26|    2016-05-07|   1A| Aerocivil|                  24|              50|        50568|2014|   2014-12-31|     N|            2|\n",
      "|  7FU|null|LA ESCONDIDA|Puerto Gaitán|        Meta|Aeródromo| 4.6108|-71.1935|PALMAS SICARARE S...|COSARGO S.A.S.|        3853.0|        5.0|5000.0|    564.0|  1843,000|        2013-04-26|    2016-05-07|   1A| Aerocivil|                  24|              50|        50568|2015|   2015-12-31|     N|            3|\n",
      "|  7FU|null|LA ESCONDIDA|Puerto Gaitán|        Meta|Aeródromo| 4.6108|-71.1935|PALMAS SICARARE S...|COSARGO S.A.S.|        6667.0|        5.0|5000.0|    564.0|  1843,000|        2013-04-26|    2016-05-07|   1A|   Público|                  12|              50|        50568|2016|   2016-12-31|     S|            4|\n",
      "+-----+----+------------+-------------+------------+---------+-------+--------+--------------------+--------------+--------------+-----------+------+---------+----------+------------------+--------------+-----+----------+--------------------+----------------+-------------+----+-------------+------+-------------+\n",
      "only showing top 5 rows\n",
      "\n",
      "None\n",
      "\n",
      "\n"
     ]
    },
    {
     "ename": "NameError",
     "evalue": "name 'aeropuerto_historia' is not defined",
     "output_type": "error",
     "traceback": [
      "\u001b[0;31m---------------------------------------------------------------------------\u001b[0m",
      "\u001b[0;31mNameError\u001b[0m                                 Traceback (most recent call last)",
      "\u001b[0;32m<ipython-input-28-4b6969f4ca0e>\u001b[0m in \u001b[0;36m<module>\u001b[0;34m\u001b[0m\n\u001b[0;32m----> 1\u001b[0;31m \u001b[0mETL\u001b[0m\u001b[0;34m(\u001b[0m\u001b[0mdf_aeropuertos\u001b[0m\u001b[0;34m,\u001b[0m \u001b[0mdf_vuelos\u001b[0m\u001b[0;34m)\u001b[0m\u001b[0;34m\u001b[0m\u001b[0;34m\u001b[0m\u001b[0m\n\u001b[0m",
      "\u001b[0;32m<ipython-input-26-55c3a17b9738>\u001b[0m in \u001b[0;36mETL\u001b[0;34m(df_aeropuertos, df_vuelos)\u001b[0m\n\u001b[1;32m     51\u001b[0m     \u001b[0mprint\u001b[0m\u001b[0;34m(\u001b[0m\u001b[0;34m\"\\n\"\u001b[0m\u001b[0;34m)\u001b[0m\u001b[0;34m\u001b[0m\u001b[0;34m\u001b[0m\u001b[0m\n\u001b[1;32m     52\u001b[0m \u001b[0;34m\u001b[0m\u001b[0m\n\u001b[0;32m---> 53\u001b[0;31m     \u001b[0mtabla_hechos\u001b[0m \u001b[0;34m=\u001b[0m \u001b[0mtabla_hechos_vuelos\u001b[0m\u001b[0;34m(\u001b[0m\u001b[0mdf_aeropuertos\u001b[0m\u001b[0;34m,\u001b[0m \u001b[0mdf_vuelos\u001b[0m\u001b[0;34m,\u001b[0m \u001b[0maerolinea\u001b[0m\u001b[0;34m,\u001b[0m\u001b[0moperacion\u001b[0m\u001b[0;34m,\u001b[0m \u001b[0mavion\u001b[0m\u001b[0;34m,\u001b[0m \u001b[0mtrafico\u001b[0m\u001b[0;34m,\u001b[0m \u001b[0mfecha\u001b[0m\u001b[0;34m,\u001b[0m \u001b[0maeropuerto_historia\u001b[0m\u001b[0;34m)\u001b[0m\u001b[0;34m\u001b[0m\u001b[0;34m\u001b[0m\u001b[0m\n\u001b[0m\u001b[1;32m     54\u001b[0m     \u001b[0mtabla_hechos\u001b[0m\u001b[0;34m.\u001b[0m\u001b[0mtoPandas\u001b[0m\u001b[0;34m(\u001b[0m\u001b[0;34m)\u001b[0m\u001b[0;34m.\u001b[0m\u001b[0mto_csv\u001b[0m\u001b[0;34m(\u001b[0m\u001b[0mPATH\u001b[0m\u001b[0;34m+\u001b[0m\u001b[0;34m'tabla_hechos.csv'\u001b[0m\u001b[0;34m)\u001b[0m\u001b[0;34m\u001b[0m\u001b[0;34m\u001b[0m\u001b[0m\n\u001b[1;32m     55\u001b[0m     \u001b[0mprint\u001b[0m\u001b[0;34m(\u001b[0m\u001b[0;34m\"Tabla de Hechos de Vuelos: \\n\"\u001b[0m\u001b[0;34m)\u001b[0m\u001b[0;34m\u001b[0m\u001b[0;34m\u001b[0m\u001b[0m\n",
      "\u001b[0;31mNameError\u001b[0m: name 'aeropuerto_historia' is not defined"
     ]
    }
   ],
   "source": [
    "ETL(df_aeropuertos, df_vuelos)"
   ]
  },
  {
   "cell_type": "markdown",
   "id": "044f0b2f",
   "metadata": {},
   "source": [
    "## Función de actualización \n",
    "\n",
    "Como se explicó en la Wiki, se creó una función de actualización que podría ser usada para realizar la actualización de los datos, cuando estos son actualizados de forma periodica con periodos mas cortos de un año y en los cuales debido a la naturaleza de los datos sería de mayor relevancia utilizarla. "
   ]
  },
  {
   "cell_type": "markdown",
   "id": "efb826d9",
   "metadata": {},
   "source": [
    "Inicialmente se cargan los datos de la base de datos antigua,  eliminamos los registros con fechas de construccióin superior a 2013 y eliminamos los registros repetidos."
   ]
  },
  {
   "cell_type": "code",
   "execution_count": 36,
   "id": "bfbdc941",
   "metadata": {
    "scrolled": true
   },
   "outputs": [
    {
     "name": "stdout",
     "output_type": "stream",
     "text": [
      "+-----+----+--------------------+--------------------+------------------+-------------+-------+--------+--------------------+--------------------+--------------+-----------+-------+---------+----------+------------------+--------------+-----+----------+--------------------+----------------+-------------+\n",
      "|sigla|iata|              nombre|           municipio|      departamento|    categoria|latitud|longitud|         propietario|          explotador|longitud_pista|ancho_pista|   pbmo|elevacion|resolucion|fecha_construccion|fecha_vigencia|clase|      tipo|numero_vuelos_origen|gcd_departamento|gcd_municipio|\n",
      "+-----+----+--------------------+--------------------+------------------+-------------+-------+--------+--------------------+--------------------+--------------+-----------+-------+---------+----------+------------------+--------------+-----+----------+--------------------+----------------+-------------+\n",
      "|  9CL|null|        LA VENTUROSA|San Luis de Palenque|          Casanare|    Aeródromo| 5.2388|-71.3035|           MUNICIPIO|            EL MISMO|         620.0|       15.0| 2000.0|    459.0|  4542,000|        2006-10-27|          null|   1A|   Público|                   1|              85|        85325|\n",
      "|  9MN|null|   EL PEDRAL BONANZA|      Puerto Wilches|         Santander|    Aeródromo| 7.2417|-73.8151|                null|    AEROPENORT LTDA.|         800.0|       10.0| 3000.0|    282.0|      null|        2013-10-11|    2012-09-22|   1A|Fumigación|              883478|              68|        68575|\n",
      "|  7HC|null|          EL CAFUCHE|        La Primavera|           Vichada|    Aeródromo| 5.3152|-70.0184|ANDRES CARVAJAL M...|ANDRES CARVAJAL M...|         850.0|       18.0| 4000.0|    384.0|  3826,000|        2013-07-30|    2016-08-01|   1A|   Privado|                   1|              99|        99524|\n",
      "|  9AB|null|           GETSEMANI|        Hato Corozal|          Casanare|    Aeródromo| 6.1506|-70.0294|           MUNICIPIO|           MUNICIPIO|         800.0|       14.0| 2000.0|    304.0|  2220,000|        2004-06-10|          null|   1A|   Público|                 112|              85|        85125|\n",
      "|  9CG|null|SAN JOSE DEL ARIPORO|      Paz de Ariporo|          Casanare|    Aeródromo| 6.0475|-70.0128|           MUNICIPIO|           MUNICIPIO|         570.0|       15.0| 2000.0|    318.0|  4541,000|        2007-10-27|    2018-11-26|   1A|   Público|              917463|              85|        85250|\n",
      "|  OTU| OTU|        REMEDIOS OTU|            Remedios|         Antioquia|     Regional| 7.0106|-74.7156|           AEROCIVIL|           AEROCIVIL|         950.0|       12.0|   null|   2058.0|   522,000|        1968-07-03|          null|   1A| Aerocivil|                8663|               5|         5604|\n",
      "|  9LS|null|            SAN LUIS|        La Esperanza|Norte de Santander|    Aeródromo| 7.6382|-73.4381|        CRIAGAN S.A.|    AEROPENORT LTDA.|         770.0|       10.0| 2000.0|    308.0|  7389,000|        2012-12-28|    2016-02-12|   1A|Fumigación|                null|              54|        54385|\n",
      "|  NVA| NVA|        BENITO SALAS|               Neiva|             Huila|Internacional| 2.9499|-75.2941|           AEROCIVIL|           AEROCIVIL|        1600.0|       40.0|   null|   1464.0|    57,000|        1990-10-30|          null|   3C| Aerocivil|              433267|              41|        41001|\n",
      "|  7GI|null|  GUAYABAL DEL CRAVO|              Orocué|          Casanare|    Aeródromo| 4.7223|-71.5943|KLAUS PUTH ARANGUREN|KLAUS PUTH ARANGUREN|         750.0|       12.0| 2500.0|    442.0|  3710,000|        2013-07-24|    2016-08-01|   1A|   Privado|                   1|              85|        85230|\n",
      "|  7HM|null|        LLANO CAUCHO|            Cumaribo|           Vichada|    Aeródromo| 4.4355|-70.6954|AGROINDUSTRIALES ...|AGROINVERSIONES D...|         900.0|       15.0|12000.0|    434.0|  5189,000|        2013-09-24|          null|   1A|   Privado|                  10|              99|        99773|\n",
      "|  RVE| RVE|       COLONIZADORES|              Arauca|            Arauca|     Regional| 6.9504|-71.8562|           ECOPETROL|           AEROCIVIL|         800.0|       30.0|   null|    678.0|  4158,000|        1983-09-25|          null|   3C| Aerocivil|                6315|              81|        81001|\n",
      "|  9BB|null|          SAN MIGUEL|        Puerto López|              Meta|    Aeródromo| 4.1069|  -72.89|ELIZABETH CRUZ BULLA|          SAAC S.A.S|         670.0|       10.0| 2000.0|    803.0|   251,000|        2012-02-01|    2015-02-09|   1A|Fumigación|                 105|              50|        50573|\n",
      "|  9MP|null|           LOS LOBOS|           Tauramena|          Casanare|    Aeródromo| 4.4748|-72.7478|     AGROVIMART S.A.|          AGIL LTDA.|         800.0|       10.0| 3000.0|    580.0|  1685,000|        2013-04-18|    2016-05-03|   1A|Fumigación|                null|              85|        85410|\n",
      "|  9BI|null|          SAN FELIPE|              Orocué|          Casanare|    Aeródromo| 5.1037|-71.8425|MARIA LUCILA REYE...|MARIA LUCILA REYE...|         700.0|       14.0| 2000.0|    554.0|   800,000|        2010-02-18|          null|   1A|   Privado|                  10|              85|        85230|\n",
      "|  9CD|null|            VARSOVIA|      Paz de Ariporo|          Casanare|    Aeródromo|  5.849|-70.3648|           MUNICIPIO|           MUNICIPIO|         550.0|       15.0| 2000.0|    328.0|  4541,000|        2006-10-27|    2016-11-07|   1A|   Público|                  47|              85|        85250|\n",
      "|  BEC|null|            BECERRIL|            Becerril|             Cesar|    Aeródromo| 9.6628|-73.2744|           MUNICIPIO|          FUMILLANOS|        1300.0|       27.0| 3500.0|    320.0|  2989,000|        2008-07-02|          null|   3B|Fumigación|                  51|              20|        20045|\n",
      "|  ACD| ACD|   ALCIDES FERNANDEZ|              Acandí|             Chocó|     Regional| 8.4969|-77.2739|         INCORA LTDA|           MUNICIPIO|        1200.0|       16.0|   null|     50.0|  1072,000|        1969-09-15|          null|   3A|   Público|                2564|              27|        27006|\n",
      "|  YPP|null|      GERMAN ALBERTO|               Yopal|          Casanare|    Aeródromo| 5.1875|-72.3191|JOSE NELSON PEREZ R.|         CELTA LTDA.|         800.0|       15.0| 2000.0|    735.0|  4511,000|        2012-08-16|    2015-09-07|   1A|Fumigación|                  12|              85|        85001|\n",
      "|  9LR|null|        LOS REMANSOS|           Cimitarra|         Santander|    Aeródromo| 6.5729|-74.2195|      NELLY VALENCIA|    AEROPENORT LTDA.|         700.0|       10.0| 3000.0|    357.0|  4373,000|        2009-08-21|    2012-10-08|   1A|Fumigación|                null|              68|        68190|\n",
      "|  PUU| PUU|        TRES DE MAYO|         Puerto Asís|          Putumayo|     Nacional| 0.5054|-76.5008|           AEROCIVIL|           AEROCIVIL|        1485.0|       25.0|33112.0|    809.0|   115,000|        1981-09-09|          null|   3C| Aerocivil|              251978|              86|        86568|\n",
      "+-----+----+--------------------+--------------------+------------------+-------------+-------+--------+--------------------+--------------------+--------------+-----------+-------+---------+----------+------------------+--------------+-----+----------+--------------------+----------------+-------------+\n",
      "only showing top 20 rows\n",
      "\n"
     ]
    }
   ],
   "source": [
    "df_aeropuertos = spark.read.load(\"aeropuertos.csv\",format=\"csv\", sep=\",\", inferSchema=\"true\", header=\"true\")\n",
    "df_aeropuertos = df_aeropuertos.replace(\"nan\", None)\n",
    "df_aeropuertos = df_aeropuertos.drop(\"_c0\")\n",
    "df_aeropuertos = df_aeropuertos.withColumn(\"pbmo\",df_aeropuertos.pbmo.cast(DoubleType()))\n",
    "df_aeropuertos = df_aeropuertos.withColumn(\"fecha_construccion\",df_aeropuertos.fecha_construccion.cast(DateType()))\n",
    "df_aeropuertos = df_aeropuertos.withColumn(\"fecha_vigencia\",df_aeropuertos.fecha_vigencia.cast(DateType()))\n",
    "df_aeropuertos = df_aeropuertos.withColumn(\"numero_vuelos_origen\",df_aeropuertos.numero_vuelos_origen.cast(IntegerType()))\n",
    "df_aeropuertos = df_aeropuertos.withColumn(\"gcd_departamento\",df_aeropuertos.gcd_departamento.cast(StringType()))\n",
    "df_aeropuertos = df_aeropuertos.withColumn(\"gcd_municipio\",df_aeropuertos.gcd_municipio.cast(StringType()))\n",
    "df_aeropuertos = df_aeropuertos.filter(\"fecha_construccion < date'2014-01-01'\")\n",
    "df_aeropuertos = df_aeropuertos.drop_duplicates(subset=['sigla'])\n",
    "df_aeropuertos.show()"
   ]
  },
  {
   "cell_type": "code",
   "execution_count": 37,
   "id": "09d22087",
   "metadata": {},
   "outputs": [],
   "source": [
    "def dimension_aeropuerto(aeropuertos, vuelos): \n",
    "    from pyspark.sql.functions import lit\n",
    "    aeropuerto = aeropuertos.select(\"iata\", \"sigla\", \"nombre\", \"latitud\", \"longitud\", \"longitud_pista\", \n",
    "                                    \"ancho_pista\", \"pbmo\", \"elevacion\", \"resolucion\", \"numero_vuelos_origen\",\n",
    "                                   \"explotador\", \"propietario\", \"categoria\",\n",
    "                                   \"tipo\", \"clase\", \"departamento\", \"municipio\", \"gcd_departamento\", \"gcd_municipio\", \n",
    "                                   \"fecha_construccion\", \"fecha_vigencia\")\n",
    "    \n",
    "    aeropuerto = aeropuerto.withColumn(\"InicioVigencia\", aeropuerto[\"fecha_construccion\"])\n",
    "    aeropuerto = aeropuerto.withColumn(\"FinalVigencia\", lit(\"2050-1-1\"))\n",
    "    aeropuerto = aeropuerto.withColumn(\"FinalVigencia\",aeropuerto.FinalVigencia.cast(DateType()))\n",
    "    aeropuerto = aeropuerto.withColumn(\"VersionActual\", lit(\"S\"))\n",
    "    \n",
    "    aeropuerto = aeropuerto.withColumn(\"id_aeropuerto\", monotonically_increasing_id())\n",
    "\n",
    "    return(aeropuerto)"
   ]
  },
  {
   "cell_type": "code",
   "execution_count": 38,
   "id": "2e5d50a5",
   "metadata": {
    "scrolled": true
   },
   "outputs": [
    {
     "name": "stdout",
     "output_type": "stream",
     "text": [
      "+----+-----+--------------------+-------+--------+--------------+-----------+-------+---------+----------+--------------------+--------------------+--------------------+-------------+----------+-----+----------------+--------------------+----------------+-------------+------------------+--------------+--------------+-------------+-------------+-------------+\n",
      "|iata|sigla|              nombre|latitud|longitud|longitud_pista|ancho_pista|   pbmo|elevacion|resolucion|numero_vuelos_origen|          explotador|         propietario|    categoria|      tipo|clase|    departamento|           municipio|gcd_departamento|gcd_municipio|fecha_construccion|fecha_vigencia|InicioVigencia|FinalVigencia|VersionActual|id_aeropuerto|\n",
      "+----+-----+--------------------+-------+--------+--------------+-----------+-------+---------+----------+--------------------+--------------------+--------------------+-------------+----------+-----+----------------+--------------------+----------------+-------------+------------------+--------------+--------------+-------------+-------------+-------------+\n",
      "| PCR|  PCR|        GERMAN OLANO|  6.185|-67.4925|        1800.0|       30.0|   null|   1915.0|   551,000|                6271|           AEROCIVIL|           MUNICIPIO|     Regional| Aerocivil|   3C|         Vichada|      Puerto Carreño|              99|        99001|        1968-07-10|          null|    1968-07-10|   2050-01-01|            S| 377957122049|\n",
      "|null|  7FW|           MORICHITO| 5.9188|-71.7932|         800.0|       15.0| 3500.0|    720.0|  2220,000|                null| ROBERTO C. RIAÑO P.|      CARMEN NARANJO|    Aeródromo|   Privado|   1A|        Casanare|        Hato Corozal|              85|        85125|        2009-05-07|          null|    2009-05-07|   2050-01-01|            S|1589137899520|\n",
      "| GPI|  GPI|        JUAN CASIANO|   2.57| -77.898|        1300.0|       16.0|   null|    164.0|   245,000|                7490|           AEROCIVIL|           AEROCIVIL|     Regional| Aerocivil|   3C|           Cauca|               Guapí|              19|        19318|        1960-08-17|          null|    1960-08-17|   2050-01-01|            S|1297080123395|\n",
      "|null|  9CL|        LA VENTUROSA| 5.2388|-71.3035|         620.0|       15.0| 2000.0|    459.0|  4542,000|                   1|            EL MISMO|           MUNICIPIO|    Aeródromo|   Público|   1A|        Casanare|San Luis de Palenque|              85|        85325|        2006-10-27|          null|    2006-10-27|   2050-01-01|            S|   8589934592|\n",
      "| MQU|  MQU|      JOSE CELESTINO| 5.2126|-74.8837|        1790.0|       45.0|   null|   1531.0|    51,000|              353329|           AEROCIVIL|           AEROCIVIL|     Regional| Aerocivil|   2A|          Tolima|San Sebastián de ...|              73|        73443|        2011-01-28|          null|    2011-01-28|   2050-01-01|            S| 678604832768|\n",
      "|null|  9BX|     LA ESTRELLA-CA.| 3.4802|-73.3276|         300.0|       75.0|  500.0|    787.0|   679,000|                null|    CLUB LA LIBELULA|    CLUB LA LIBELULA|    Aeródromo|   Privado|   UL|            Meta|          San Martín|              50|        50689|        2011-02-15|          null|    2011-02-15|   2050-01-01|            S|1022202216448|\n",
      "| ADZ|  ADZ|GUSTAVO ROJAS PIN...|12.5837|-81.7113|        2380.0|       36.0|   null|     18.0|   352,000|               76692|           AEROCIVIL|           AEROCIVIL|Internacional| Aerocivil|   4D|San Andrés islas|          San Andrés|              88|        88001|        1968-05-17|          null|    1968-05-17|   2050-01-01|            S|1451698946048|\n",
      "|null|  BNO|        BUENOS AIRES|  7.462|-73.7464|        1060.0|       18.0| 3500.0|    229.0|  7239,000|                  26|            EL MISMO|AGRICOLA BUFALERA...|    Aeródromo|   Privado|   1A|       Santander|      Puerto Wilches|              68|        68575|        2012-12-19|          null|    2012-12-19|   2050-01-01|            S| 188978561025|\n",
      "|null|  9MC|           LA MONICA| 4.6856|-72.6005|         840.0|       10.0| 2000.0|    554.0|  4896,000|                null|          ASAM LTDA.|MAURICIO TORRES C...|    Aeródromo|Fumigación|   1A|        Casanare|           Tauramena|              85|        85410|        2011-09-06|          null|    2011-09-06|   2050-01-01|            S|1245540515840|\n",
      "|null|  9CK|SANTA MARIA DEL CAFÉ| 6.1111|-70.9888|         510.0|       15.0| 2000.0|    427.0|  4543,000|                null|            EL MISMO|           MUNICIPIO|    Aeródromo|   Público|   1A|        Casanare|        Hato Corozal|              85|        85125|        2006-10-27|          null|    2006-10-27|   2050-01-01|            S|1580547964928|\n",
      "|null|  7HG|          DOROTEA B1| 5.5122|-71.0248|        1000.0|       18.0|   null|    404.0|  2362,000|                1029|  NEW GRANADA ENERGY|  NEW GRANADA ENERGY|    Aeródromo|   Privado|   2A|        Casanare|      Paz de Ariporo|              85|        85250|        2013-05-27|          null|    2013-05-27|   2050-01-01|            S| 360777252864|\n",
      "| FLA|  FLA|GUSTAVO ARTUNDUAG...|  1.589|-75.5643|        1500.0|       30.0|   null|    803.0|   984,000|               16997|           AEROCIVIL|           AEROCIVIL|     Nacional| Aerocivil|   3C|         Caquetá|           Florencia|              18|        18001|        1987-02-02|          null|    1987-02-02|   2050-01-01|            S|1236950581248|\n",
      "|null|  BIZ|             BIZERTA| 5.4225|-71.9936|         700.0|       10.0| 2000.0|    639.0|   151,000|                   1|      FUMIVILLA LTDA| CELMIRA BARRAGAN F.|    Aeródromo|Fumigación|   1A|        Casanare|             Nunchía|              85|        85225|        2013-01-25|          null|    2013-01-25|   2050-01-01|            S| 790273982465|\n",
      "|null|  9MH|            SAN JUAN| 3.7017|-73.3774|         740.0|       10.0| 2000.0|    870.0|  1840,000|                null| MARIA A. PACHECO O.|      RODOLFO MENDEZ|    Aeródromo|Fumigación|   1A|            Meta|          San Martín|              50|        50689|        2013-04-26|    2016-05-03|    2013-04-26|   2050-01-01|            S|1211180777472|\n",
      "|null|  ABT|         AGUA BLANCA| 4.4656|-74.9948|         680.0|       10.0| 2000.0|   1994.0|  4508,000|                  17|          CRUZ VERDE|SOCIEDAD CULTIVOS...|    Aeródromo|Fumigación|   1A|          Tolima|             Piedras|              73|        73547|        2012-08-18|    2015-09-03|    2012-08-18|   2050-01-01|            S|1254130450432|\n",
      "|null|  9BC|       CANTADELICIAS| 3.3873|-74.9338|         700.0|       15.0|12200.0|   4213.0|  4541,000|               53331|           MUNICIPIO|           MUNICIPIO|    Aeródromo|   Público|   1A|          Tolima|           Alpujarra|              73|        73024|        2013-11-26|          null|    2013-11-26|   2050-01-01|            S| 188978561024|\n",
      "|null|  PTW|     GEMELOS DORADOS| 7.2466|-73.7723|         850.0|       15.0| 5670.0|    314.0|  6473,000|                 242|            EL MISMO|MILTON A. SALAZAR...|    Aeródromo|   Privado|   1A|       Santander|      Puerto Wilches|              68|        68575|        2013-11-19|    2017-01-09|    2013-11-19|   2050-01-01|            S| 292057776130|\n",
      "|null|  7GN|          LOS MANGOS| 8.2956|-75.0987|         200.0|       10.0|  500.0|     90.0|  5190,000|                null| MANUEL LOPEZ ORTEGA| MANUEL LOPEZ ORTEGA|    Aeródromo|   Privado|   UL|         Córdoba|              Ayapel|              23|        23068|        2013-09-24|          null|    2013-09-24|   2050-01-01|            S| 927712935936|\n",
      "| CIM|  CIM|GUSTAVO ROJAS PIN...| 6.3674|-73.9706|        1500.0|       40.0|12202.0|    735.0|   644,000|                 338|           AEROCIVIL|           AEROCIVIL|    Aeródromo| Aerocivil|   3C|       Santander|           Cimitarra|              68|        68190|        1967-06-05|          null|    1967-06-05|   2050-01-01|            S| 773094113280|\n",
      "|null|  YAP|              YAPIMA| 1.0825|-69.4914|         500.0|       15.0| 2300.0|    600.0|  3423,000|                   2|GOBERNACION DEL V...|  RESGUARDO INDIGENA|    Aeródromo|   Público|   1A|          Vaupés|                Mitú|              97|        97001|        1997-09-16|          null|    1997-09-16|   2050-01-01|            S|1005022347264|\n",
      "+----+-----+--------------------+-------+--------+--------------+-----------+-------+---------+----------+--------------------+--------------------+--------------------+-------------+----------+-----+----------------+--------------------+----------------+-------------+------------------+--------------+--------------+-------------+-------------+-------------+\n",
      "only showing top 20 rows\n",
      "\n"
     ]
    }
   ],
   "source": [
    "aeropuerto_dw_df = dimension_aeropuerto(df_aeropuertos, df_vuelos)\n",
    "from pyspark.sql.window import Window\n",
    "\n",
    "window = Window.partitionBy(aeropuerto_dw_df['id_aeropuerto']).orderBy(aeropuerto_dw_df['VersionActual'].desc())\n",
    "aeropuerto_dw_df = aeropuerto_dw_df.select('*', functions.rank().over(window).alias('rank')).filter(functions.col('rank') == 1) \n",
    "aeropuerto_dw_df = aeropuerto_dw_df.drop('rank')\n",
    "aeropuerto_dw_df.show()"
   ]
  },
  {
   "cell_type": "code",
   "execution_count": 33,
   "id": "ff08e14a",
   "metadata": {},
   "outputs": [],
   "source": [
    "from pyspark.sql.window import Window\n",
    "\n",
    "def aeropuerto_actualizacion(aeropuerto_df, aeropuerto_dw_df):\n",
    "    from pyspark.sql.window import Window\n",
    "    \"\"\"Retorna los registros de  que se deben insertar y los que se deben actualizar según un manejo de historia tipo 2.\n",
    "\n",
    " \n",
    "    \"\"\"\n",
    "\n",
    "    #Se utiliza un Window para extraer, del dataframe pasado por parámetro, por cada wwi_stock_item_id, la versión mayor.\n",
    "    #Es decir, por cada llave natural, extrae la última versión.\n",
    "    window = Window.partitionBy(aeropuerto_dw_df['id_aeropuerto']).orderBy(aeropuerto_dw_df['VersionActual'].desc())\n",
    "    aeropuerto_dw_df = aeropuerto_dw_df.select('*', functions.rank().over(window).alias('rank')).filter(functions.col('rank') == 1) \n",
    "    aeropuerto_dw_df = aeropuerto_dw_df.drop('rank')\n",
    "    \n",
    "    #Renombra columnas del DataWarehouse, poniendo prefijo dw_ para evitar confusiones\n",
    "    aeropuerto_dw_df = aeropuerto_dw_df.selectExpr(\"iata as dw_iata\", \"sigla as dw_sigla\", \"nombre as dw_nombre\", \"latitud as dw_latitud\", \"longitud as dw_longitud\", \"longitud_pista as dw_longitud_pista\", \n",
    "                                    \"ancho_pista as dw_ancho_pista\", \"pbmo as dw_pbmo\", \"elevacion as dw_elevacion\", \"resolucion as dw_resolucion\", \"numero_vuelos_origen as dw_numero_vuelos_origen\",\n",
    "                                   \"explotador as dw_explotador\", \"propietario as dw_propietario\", \"categoria as dw_categoria\",\n",
    "                                   \"tipo as dw_tipo\", \"clase as dw_clase\", \"departamento as dw_departamento\", \"municipio as dw_municipio\", \"gcd_departamento as dw_gcd_departamento\", \"gcd_municipio as dw_gcd_municipio\", \n",
    "                                   \"fecha_construccion as dw_fecha_construccion\", \"fecha_vigencia as dw_fecha_vigencia\", \"id_aeropuerto as dw_id_aeropuerto\", \"VersionActual as VersionActual\",\n",
    "                                                  \"InicioVigencia as InicioVigencia\", \"FinalVigencia as FinalVigencia\")\n",
    "\n",
    "    #Realiza left join entre stockitems que se están procesando y stockitems en el DW.\n",
    "    df = aeropuerto_df.join(aeropuerto_dw_df.withColumnRenamed('dw_sigla', 'sigla'), how = 'left', on ='sigla')\n",
    "\n",
    "    #Encontar llave máxima\n",
    "    max_key = df.agg({\"dw_id_aeropuerto\": \"max\"}).collect()[0][0]\n",
    "    \n",
    "    if max_key is None:\n",
    "        max_key = 1\n",
    "    \n",
    "    #cambio = 0, ya existía esa llave natural y no cambió.\n",
    "    #cambio = 1, ya existía llave natural y cambió registro.\n",
    "    #cambio = -1, no existía llave natural\n",
    "    df = df.withColumn('cambio', functions.when(df['dw_id_aeropuerto'].isNull(), -1)\\\n",
    "        .when(((df['nombre'] == df['dw_nombre']) | (df['nombre'].isNull() & df['dw_nombre'].isNull()))&\n",
    "               ((df['longitud_pista'] == df['dw_longitud_pista']) | (df['longitud_pista'].isNull() & df['dw_longitud_pista'].isNull()))&\n",
    "               ((df['latitud'] == df['dw_latitud']) | (df['latitud'].isNull() & df['dw_latitud'].isNull()))&\n",
    "               ((df['longitud'] == df['dw_longitud']) | (df['longitud'].isNull() & df['dw_longitud'].isNull()))&\n",
    "               ((df['explotador'] == df['dw_explotador']) | (df['explotador'].isNull() & df['dw_explotador'].isNull()))&\n",
    "               ((df['propietario'] == df['dw_propietario']) | (df['propietario'].isNull() & df['dw_propietario'].isNull()))&\n",
    "               ((df['categoria'] == df['dw_categoria']) | (df['categoria'].isNull() & df['dw_categoria'].isNull()))&\n",
    "               ((df['tipo'] == df['dw_tipo']) | (df['tipo'].isNull() & df['dw_tipo'].isNull()))&\n",
    "               ((df['clase'] == df['dw_clase']) | (df['clase'].isNull() & df['dw_clase'].isNull()))&\n",
    "               ((df['departamento'] == df['dw_departamento']) | (df['departamento'].isNull() & df['dw_departamento'].isNull()))&\n",
    "               ((df['municipio'] == df['dw_municipio']) | (df['municipio'].isNull() & df['dw_municipio'].isNull()))&\n",
    "               ((df['gcd_departamento'] == df['dw_gcd_departamento']) | (df['gcd_departamento'].isNull() & df['dw_gcd_departamento'].isNull()))&\n",
    "               ((df['gcd_municipio'] == df['dw_gcd_municipio']) | (df['gcd_municipio'].isNull() & df['dw_gcd_municipio'].isNull()))&\n",
    "               ((df['fecha_vigencia'] == df['dw_fecha_vigencia']) | (df['fecha_vigencia'].isNull() & df['dw_fecha_vigencia'].isNull())), 0)\\\n",
    "            .otherwise(1))\n",
    "    #caso 0: Se quitan del df.\n",
    "    df = df.where(df['cambio'] != 0)\n",
    "    \n",
    "    #Nuevos ids\n",
    "    df = df.withColumn('new_id', functions.monotonically_increasing_id() + max_key)\n",
    "    \n",
    "    #caso -1: Donde no se hizo el join (i.e, los registros transaccionales nuevos)\n",
    "    df = df.withColumn('dw_VersionActual', functions.when(df['cambio'] == -1, \"S\").otherwise(df['VersionActual']))\n",
    "    df = df.withColumn('dw_InicioVigencia', functions.when(df['cambio'] == -1, df[\"fecha_construccion\"]).otherwise(df['InicioVigencia']))\n",
    "    df = df.withColumn('dw_FinalVigencia', functions.when(df['cambio'] == -1, functions.to_date(functions.lit('2050-01-01'), 'yyyy-MM-dd')).otherwise(functions.to_date(functions.lit(str(df[\"Ano\"]-1)+'-12-31'), 'yyyy-MM-dd')))\n",
    "    df = df.withColumn('insert', functions.when(df['cambio'] == -1, 1).otherwise(0))\n",
    "    \n",
    "    \n",
    "    #caso 1:\n",
    "    # 1.1 Es necesario editar existentes: poner dw_date_to como fecha actual. Después, actualizar en la base de datos (NO INSERTAR)\n",
    "    # 1.2 Es necesario crear nueva fila, identica a anterior excepto que : _version = _version + 1, date_from = hoy, date_to = 2199-12-31\n",
    "    df_dup = df.where(df['cambio'] == 1)\n",
    "    #1.2\n",
    "    df_dup = df_dup.withColumn('dw_VersionActual', functions.lit(\"S\"))\n",
    "    df_dup = df_dup.withColumn('dw_InicioVigencia', functions.to_date(functions.lit(str(df_dup[\"Ano\"]-1)+'-12-31'), 'yyyy-MM-dd'))\n",
    "    df_dup = df_dup.withColumn('dw_FinalVigencia', functions.to_date(functions.lit('2050-12-31'), 'yyyy-MM-dd'))\n",
    "    df_dup = df_dup.withColumn('insert',functions.lit(1))\n",
    "    \n",
    "    \n",
    "    #Juntar tablas\n",
    "    df = df.union(df_dup)\n",
    "    \n",
    "    #Eliminar columna 'cambio'\n",
    "    df = df.drop('cambio')\n",
    "\n",
    "    return df\n"
   ]
  },
  {
   "cell_type": "code",
   "execution_count": 39,
   "id": "22a8eda5",
   "metadata": {},
   "outputs": [],
   "source": [
    "aeropuertos_df = spark.read.load(\"aeropuertos_cambios_infraestructura.csv\",format=\"csv\", sep=\",\", inferSchema=\"true\", header=\"true\")\n",
    "aeropuertos_df = aeropuertos_df.replace(\"nan\", None)\n",
    "aeropuertos_df = aeropuertos_df.drop(\"_c0\")\n",
    "aeropuertos_df = aeropuertos_df.withColumn(\"pbmo\",aeropuertos_df.pbmo.cast(DoubleType()))\n",
    "aeropuertos_df = aeropuertos_df.withColumn(\"fecha_construccion\",aeropuertos_df.fecha_construccion.cast(DateType()))\n",
    "aeropuertos_df = aeropuertos_df.withColumn(\"fecha_vigencia\",aeropuertos_df.fecha_vigencia.cast(DateType()))\n",
    "aeropuertos_df = aeropuertos_df.withColumn(\"numero_vuelos_origen\",aeropuertos_df.numero_vuelos_origen.cast(IntegerType()))\n",
    "aeropuertos_df = aeropuertos_df.withColumn(\"Ano\",aeropuertos_df.Ano.cast(IntegerType()))\n",
    "aeropuertos_df = aeropuertos_df.withColumn(\"gcd_departamento\",aeropuertos_df.gcd_departamento.cast(StringType()))\n",
    "aeropuertos_df = aeropuertos_df.withColumn(\"gcd_municipio\",aeropuertos_df.gcd_municipio.cast(StringType()))"
   ]
  },
  {
   "cell_type": "code",
   "execution_count": 41,
   "id": "4c67a603",
   "metadata": {},
   "outputs": [],
   "source": [
    "aeropuerto_dw_df = dimension_aeropuerto(df_aeropuertos, df_vuelos)"
   ]
  },
  {
   "cell_type": "code",
   "execution_count": 42,
   "id": "d562049c",
   "metadata": {},
   "outputs": [],
   "source": [
    "aeropuerto_dw_df = dimension_aeropuerto(df_aeropuertos, df_vuelos)\n",
    "\n",
    "\n",
    "resultado = aeropuerto_actualizacion(aeropuertos_df.where(aeropuertos_df['Ano'] == 2014), aeropuerto_dw_df)"
   ]
  },
  {
   "cell_type": "code",
   "execution_count": 43,
   "id": "17e1bc46",
   "metadata": {
    "scrolled": false
   },
   "outputs": [
    {
     "name": "stdout",
     "output_type": "stream",
     "text": [
      "+-----+----+--------------------+--------------------+------------+---------+-------+--------+--------------------+--------------------+--------------+-----------+-------+---------+----------+------------------+--------------+-----+----------+--------------------+----------------+-------------+----+-------+--------------------+----------+-----------+-----------------+--------------+-------+------------+-------------+-----------------------+--------------------+--------------------+------------+----------+--------+---------------+-------------------+-------------------+----------------+---------------------+-----------------+----------------+-------------+--------------+-------------+-------------+----------------+-----------------+----------------+------+\n",
      "|sigla|iata|              nombre|           municipio|departamento|categoria|latitud|longitud|         propietario|          explotador|longitud_pista|ancho_pista|   pbmo|elevacion|resolucion|fecha_construccion|fecha_vigencia|clase|      tipo|numero_vuelos_origen|gcd_departamento|gcd_municipio| Ano|dw_iata|           dw_nombre|dw_latitud|dw_longitud|dw_longitud_pista|dw_ancho_pista|dw_pbmo|dw_elevacion|dw_resolucion|dw_numero_vuelos_origen|       dw_explotador|      dw_propietario|dw_categoria|   dw_tipo|dw_clase|dw_departamento|       dw_municipio|dw_gcd_departamento|dw_gcd_municipio|dw_fecha_construccion|dw_fecha_vigencia|dw_id_aeropuerto|VersionActual|InicioVigencia|FinalVigencia|       new_id|dw_VersionActual|dw_InicioVigencia|dw_FinalVigencia|insert|\n",
      "+-----+----+--------------------+--------------------+------------+---------+-------+--------+--------------------+--------------------+--------------+-----------+-------+---------+----------+------------------+--------------+-----+----------+--------------------+----------------+-------------+----+-------+--------------------+----------+-----------+-----------------+--------------+-------+------------+-------------+-----------------------+--------------------+--------------------+------------+----------+--------+---------------+-------------------+-------------------+----------------+---------------------+-----------------+----------------+-------------+--------------+-------------+-------------+----------------+-----------------+----------------+------+\n",
      "|  7FU|null|        LA ESCONDIDA|       Puerto Gaitán|        Meta|Aeródromo| 4.6108|-71.1935|PALMAS SICARARE S...|      COSARGO S.A.S.|        2141.0|       17.0| 5000.0|    564.0|  1843,000|        2013-04-26|    2016-05-07|   1A| Aerocivil|                  24|              50|        50568|2014|   null|        LA ESCONDIDA|    4.6108|   -71.1935|           1300.0|          18.0| 5000.0|       564.0|     1843,000|                     30|      COSARGO S.A.S.|PALMAS SICARARE S...|   Aeródromo|Fumigación|      1A|           Meta|      Puerto Gaitán|                 50|           50568|           2013-04-26|       2016-05-07|   1614907703296|            S|    2013-04-26|   2050-01-01|1700807049219|               S|       2013-04-26|            null|     0|\n",
      "|  7FW|null|           MORICHITO|        Hato Corozal|    Casanare|Aeródromo| 5.9188|-71.7932|      CARMEN NARANJO| ROBERTO C. RIAÑO P.|        1361.0|       14.0| 3500.0|    720.0|  2220,000|        2009-05-07|          null|   1A|   Privado|                   0|              85|        85125|2014|   null|           MORICHITO|    5.9188|   -71.7932|            800.0|          15.0| 3500.0|       720.0|     2220,000|                   null| ROBERTO C. RIAÑO P.|      CARMEN NARANJO|   Aeródromo|   Privado|      1A|       Casanare|       Hato Corozal|                 85|           85125|           2009-05-07|             null|   1589137899520|            S|    2009-05-07|   2050-01-01|1700807049220|               S|       2009-05-07|            null|     0|\n",
      "|  7FX|null|CAROLINA DEL PRIN...|            Carolina|   Antioquia|Aeródromo| 6.7248|-75.2909|           MUNICIPIO|           MUNICIPIO|         452.0|        0.0| 1000.0|   6004.0|  6470,000|        2013-11-19|          null|   1A|   Público|                   0|               5|         5150|2014|   null|CAROLINA DEL PRIN...|    6.7248|   -75.2909|            400.0|          16.0| 1000.0|      6004.0|     6470,000|                   null|           MUNICIPIO|           MUNICIPIO|   Aeródromo|   Público|      1A|      Antioquia|           Carolina|                  5|            5150|           2013-11-19|             null|   1228360646656|            S|    2013-11-19|   2050-01-01|1700807049221|               S|       2013-11-19|            null|     0|\n",
      "|  7FY|null|               DUBAI|              Ayapel|     Córdoba|Aeródromo|  8.296|-75.0307|ANDRES D. LONDOÑO T.|ANDRES D. LONDOÑO T.|         426.0|       15.0|  500.0|     82.0|  1212,000|        2013-03-20|          null|   1A|Fumigación|                   0|              23|        23068|2014|   null|               DUBAI|     8.296|   -75.0307|            350.0|          10.0|  500.0|        82.0|     1212,000|                   null|ANDRES D. LONDOÑO T.|ANDRES D. LONDOÑO T.|   Aeródromo|   Privado|      1A|        Córdoba|             Ayapel|                 23|           23068|           2013-03-20|             null|    171798691840|            S|    2013-03-20|   2050-01-01|1700807049222|               S|       2013-03-20|            null|     0|\n",
      "|  7FZ|null|          EL TRIUNFO|              Orocué|    Casanare|Aeródromo| 4.8095| -71.667|ERNESTO J. PEREZ ...|            EL MISMO|         630.0|       25.0| 3000.0|    475.0|  5532,000|        2014-11-11|          null|   1A|   Privado|                   2|              85|        85230|2014|   null|                null|      null|       null|             null|          null|   null|        null|         null|                   null|                null|                null|        null|      null|    null|           null|               null|               null|            null|                 null|             null|            null|         null|          null|         null|1700807049223|               S|       2014-11-11|      2050-01-01|     1|\n",
      "|  7GA|null|  BARU - HIDROPUERTO| Cartagena de Indias|     Bolívar|Aeródromo|10.2321|-75.5877|MAURICIO E. VASQU...|            EL MISMO|         269.0|       27.0|  500.0|      0.0|  6067,000|        2012-10-25|    2015-11-07|   1A|   Público|                   0|              13|        13001|2014|   null|  BARU - HIDROPUERTO|   10.2321|   -75.5877|            450.0|          20.0|  500.0|         0.0|     6067,000|                   null|            EL MISMO|MAURICIO E. VASQU...|   Aeródromo|   Privado|      1A|        Bolívar|Cartagena de Indias|                 13|           13001|           2012-10-25|       2015-11-07|    695784701952|            S|    2012-10-25|   2050-01-01|1700807049224|               S|       2012-10-25|            null|     0|\n",
      "|  7GB|null|         LA CAROLINA|             El Paso|       Cesar|Aeródromo|  9.528|-73.7866|JORGE AGUDELO RES...| JORGE AGUDELO REST.|         249.0|        8.0|  500.0|    690.0|  5474,000|        2009-10-06|          null|   UL|   Público|                   0|              20|        20250|2014|   null|         LA CAROLINA|     9.528|   -73.7866|            350.0|          10.0|  500.0|       690.0|     5474,000|                   null| JORGE AGUDELO REST.|JORGE AGUDELO RES...|   Aeródromo|   Privado|      UL|          Cesar|            El Paso|                 20|           20250|           2009-10-06|             null|    962072674304|            S|    2009-10-06|   2050-01-01|1700807049225|               S|       2009-10-06|            null|     0|\n",
      "|  7GC|null|SAN FELIPE DEL PAUTO|            Trinidad|    Casanare|Aeródromo| 5.2032|-70.8951|         AGRAS S.A.S|         AGRAS S.A.S|         939.0|        4.0| 3000.0|   3125.0|  4505,000|        2012-08-16|          null|   1A|   Privado|                 275|              85|        85430|2014|   null|SAN FELIPE DEL PAUTO|    5.2032|   -70.8951|            720.0|          10.0| 3000.0|      3125.0|     4505,000|                    153|         AGRAS S.A.S|         AGRAS S.A.S|   Aeródromo|   Privado|      1A|       Casanare|           Trinidad|                 85|           85430|           2012-08-16|             null|    747324309504|            S|    2012-08-16|   2050-01-01|1700807049226|               S|       2012-08-16|            null|     0|\n",
      "|  7GD|null|           VELASQUEZ|       Puerto Boyacá|      Boyacá|Aeródromo| 5.9482|-74.4575|                 FAC|          MANSAROVAR|        1057.0|       24.0|10000.0|    617.0|  2135,000|        2013-05-16|          null|   3C| Aerocivil|                 790|              15|        15572|2014|   null|           VELASQUEZ|    5.9482|   -74.4575|           1500.0|          18.0|10000.0|       617.0|     2135,000|                   2325|          MANSAROVAR|                 FAC|   Aeródromo|   Privado|      3C|         Boyacá|      Puerto Boyacá|                 15|           15572|           2013-05-16|             null|    481036337152|            S|    2013-05-16|   2050-01-01|1700807049227|               S|       2013-05-16|            null|     0|\n",
      "|  7GE|null|           LUCITANIA|              Orocué|    Casanare|Aeródromo| 4.6954| -71.589|AGROPECUARIA CRAV...|AGROPECUARIA CRAV...|        1266.0|        6.0| 3000.0|    443.0|  1051,000|        2014-02-28|    2017-03-03|   1A| Aerocivil|                   0|              85|        85230|2014|   null|                null|      null|       null|             null|          null|   null|        null|         null|                   null|                null|                null|        null|      null|    null|           null|               null|               null|            null|                 null|             null|            null|         null|          null|         null|1700807049228|               S|       2014-02-28|      2050-01-01|     1|\n",
      "|  7GF|null|            LA UNION|      Paz de Ariporo|    Casanare|Aeródromo| 5.6283|-70.7032|MARTHA Y. VARGAS ...|      GEOPARK CUERVA|         757.0|       14.0| 3500.0|    335.0|  2136,000|        2013-05-16|          null|   1A|Fumigación|                  48|              85|        85250|2014|   null|            LA UNION|    5.6283|   -70.7032|            640.0|          18.0| 3500.0|       335.0|     2136,000|                   1122|      GEOPARK CUERVA|MARTHA Y. VARGAS ...|   Aeródromo|   Privado|      1A|       Casanare|     Paz de Ariporo|                 85|           85250|           2013-05-16|             null|    687194767360|            S|    2013-05-16|   2050-01-01|1700807049229|               S|       2013-05-16|            null|     0|\n",
      "|  7GG|null|          LA ILUSION|                Maní|    Casanare|Aeródromo| 4.5805|-72.4282|          SIGRA S.A.|          SIGRA S.A.|         418.0|       22.0| 3500.0|    574.0|  1944,000|        2013-05-03|    2016-05-10|   1A| Aerocivil|                   3|              85|        85139|2014|   null|          LA ILUSION|    4.5805|   -72.4282|            890.0|          18.0| 3500.0|       574.0|     1944,000|                      2|          SIGRA S.A.|          SIGRA S.A.|   Aeródromo|   Privado|      1A|       Casanare|               Maní|                 85|           85139|           2013-05-03|       2016-05-10|    601295421440|            S|    2013-05-03|   2050-01-01|1700807049230|               S|       2013-05-03|            null|     0|\n",
      "|  7GH|null|        LA VENTUROSA|      Puerto Carreño|     Vichada|Aeródromo| 6.1391|-68.7779|           MUNICIPIO|         GOBERNACION|        1543.0|       22.0| 9500.0|    246.0|  6782,000|        2013-12-05|          null|   1A|   Público|                  41|              99|        99001|2014|   null|        LA VENTUROSA|    6.1391|   -68.7779|           1000.0|          12.0| 9500.0|       246.0|     6782,000|                     54|         GOBERNACION|           MUNICIPIO|   Aeródromo|   Público|      1A|        Vichada|     Puerto Carreño|                 99|           99001|           2013-12-05|             null|   1434519076864|            S|    2013-12-05|   2050-01-01|1700807049231|               S|       2013-12-05|            null|     0|\n",
      "|  7GI|null|  GUAYABAL DEL CRAVO|              Orocué|    Casanare|Aeródromo| 4.7223|-71.5943|KLAUS PUTH ARANGUREN|KLAUS PUTH ARANGUREN|         326.0|       12.0| 2500.0|    442.0|  3710,000|        2013-07-24|    2016-08-01|   1A|   Público|                   1|              85|        85230|2014|   null|  GUAYABAL DEL CRAVO|    4.7223|   -71.5943|            750.0|          12.0| 2500.0|       442.0|     3710,000|                      1|KLAUS PUTH ARANGUREN|KLAUS PUTH ARANGUREN|   Aeródromo|   Privado|      1A|       Casanare|             Orocué|                 85|           85230|           2013-07-24|       2016-08-01|     85899345920|            S|    2013-07-24|   2050-01-01|1700807049232|               S|       2013-07-24|            null|     0|\n",
      "|  7GK|null|    LAS VIOLETAS- CA|   Castilla la Nueva|        Meta|Aeródromo| 3.8519|-73.7286|   FRANCELINA CADENA|   AEROCLUB DEL META|         464.0|        7.0|  500.0|    609.0|  4132,000|        2010-08-19|          null|   UL|Fumigación|                   0|              50|        50150|2014|   null|    LAS VIOLETAS- CA|    3.8519|   -73.7286|            350.0|          10.0|  500.0|       609.0|     4132,000|                   null|   AEROCLUB DEL META|   FRANCELINA CADENA|   Aeródromo|   Privado|      UL|           Meta|  Castilla la Nueva|                 50|           50150|           2010-08-19|             null|    798863917056|            S|    2010-08-19|   2050-01-01|1700807049233|               S|       2010-08-19|            null|     0|\n",
      "|  7GN|null|          LOS MANGOS|              Ayapel|     Córdoba|Aeródromo| 8.2956|-75.0987| MANUEL LOPEZ ORTEGA| MANUEL LOPEZ ORTEGA|         179.0|       12.0|  500.0|     90.0|  5190,000|        2013-09-24|          null|   UL| Aerocivil|                   0|              23|        23068|2014|   null|          LOS MANGOS|    8.2956|   -75.0987|            200.0|          10.0|  500.0|        90.0|     5190,000|                   null| MANUEL LOPEZ ORTEGA| MANUEL LOPEZ ORTEGA|   Aeródromo|   Privado|      UL|        Córdoba|             Ayapel|                 23|           23068|           2013-09-24|             null|    927712935936|            S|    2013-09-24|   2050-01-01|1700807049234|               S|       2013-09-24|            null|     0|\n",
      "|  7GO|null|           MATABRAVA|San Luis de Palenque|    Casanare|Aeródromo| 5.2132|-71.6915|FRANCISCA REYES DIAZ|FRANCISCA REYES DIAZ|         561.0|       11.0| 2000.0|    524.0|  5966,000|        2014-12-15|          null|   1A|Fumigación|                   1|              85|        85325|2014|   null|                null|      null|       null|             null|          null|   null|        null|         null|                   null|                null|                null|        null|      null|    null|           null|               null|               null|            null|                 null|             null|            null|         null|          null|         null|1700807049235|               S|       2014-12-15|      2050-01-01|     1|\n",
      "|  7GP|null|    EL PORVENIR - CA|   Pijiño del Carmen|   Magdalena|Aeródromo|  9.491|-74.1909|       LA CEIBA S.A.|       LA CEIBA S.A.|         280.0|       17.0|  500.0|    176.0|   236,000|        2014-01-21|          null|   UL|Fumigación|                   0|              47|        47545|2014|   null|                null|      null|       null|             null|          null|   null|        null|         null|                   null|                null|                null|        null|      null|    null|           null|               null|               null|            null|                 null|             null|            null|         null|          null|         null|1700807049236|               S|       2014-01-21|      2050-01-01|     1|\n",
      "|  7GQ|null|        LA PROVINCIA|      Paz de Ariporo|    Casanare|Aeródromo| 5.6918|  -70.11|CARLOS H. MONTENEGRO|CARLOS H. MONTENEGRO|         592.0|       14.0| 2500.0|    430.0|   399,000|        2014-01-31|          null|   1A| Aerocivil|                   0|              85|        85250|2014|   null|                null|      null|       null|             null|          null|   null|        null|         null|                   null|                null|                null|        null|      null|    null|           null|               null|               null|            null|                 null|             null|            null|         null|          null|         null|1700807049237|               S|       2014-01-31|      2050-01-01|     1|\n",
      "|  7GS|null|          EL ENCANTO|            Cumaribo|     Vichada|Aeródromo| 4.6934|-70.9078|JUAN AQUILINO PER...| EL ENCANTO 1 S.A.S.|         792.0|       10.0| 5000.0|    544.0|  5964,000|        2014-12-15|          null|   1A|Fumigación|                 376|              99|        99773|2014|   null|                null|      null|       null|             null|          null|   null|        null|         null|                   null|                null|                null|        null|      null|    null|           null|               null|               null|            null|                 null|             null|            null|         null|          null|         null|1700807049238|               S|       2014-12-15|      2050-01-01|     1|\n",
      "+-----+----+--------------------+--------------------+------------+---------+-------+--------+--------------------+--------------------+--------------+-----------+-------+---------+----------+------------------+--------------+-----+----------+--------------------+----------------+-------------+----+-------+--------------------+----------+-----------+-----------------+--------------+-------+------------+-------------+-----------------------+--------------------+--------------------+------------+----------+--------+---------------+-------------------+-------------------+----------------+---------------------+-----------------+----------------+-------------+--------------+-------------+-------------+----------------+-----------------+----------------+------+\n",
      "only showing top 20 rows\n",
      "\n"
     ]
    }
   ],
   "source": [
    "resultado.show()"
   ]
  }
 ],
 "metadata": {
  "kernelspec": {
   "display_name": "Python 3",
   "language": "python",
   "name": "python3"
  },
  "language_info": {
   "codemirror_mode": {
    "name": "ipython",
    "version": 3
   },
   "file_extension": ".py",
   "mimetype": "text/x-python",
   "name": "python",
   "nbconvert_exporter": "python",
   "pygments_lexer": "ipython3",
   "version": "3.9.4"
  }
 },
 "nbformat": 4,
 "nbformat_minor": 5
}
