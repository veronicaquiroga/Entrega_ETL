{
 "cells": [
  {
   "cell_type": "code",
   "execution_count": 1,
   "metadata": {},
   "outputs": [],
   "source": [
    "from pyspark.sql import SparkSession\n",
    "from pyspark import SparkContext, SparkConf, SQLContext\n",
    "from pyspark.sql import functions as f\n",
    "from pyspark.sql.functions import isnan, when, count, col\n",
    "import os \n",
    "import seaborn as sns\n",
    "import matplotlib.pyplot as plt\n",
    "\n",
    "os.environ['PYSPARK_SUBMIT_ARGS'] = '--jars /usr/share/java/mariadb-java-client-2.5.3.jar pyspark-shell'\n",
    "\n",
    "#Inicializar PySpark\n",
    "spark_context = SparkContext()\n",
    "sql_context = SQLContext(spark_context)\n",
    "spark = sql_context.sparkSession\n",
    "\n",
    "df = spark.read.options(header='True', inferSchema='True', delimiter=';', encoding = 'ISO-8859-1').format('csv').load('./data/anexo-proyecciones-poblacion-Municipal_Area_2018-2035.csv')"
   ]
  },
  {
   "cell_type": "code",
   "execution_count": 2,
   "metadata": {},
   "outputs": [
    {
     "name": "stdout",
     "output_type": "stream",
     "text": [
      "+---+---------+----+--------+----+--------------------+-------+\n",
      "| DP|    DPNOM|DPMP|    MPIO| AÑO|     ÁREA GEOGRÁFICA|  Total|\n",
      "+---+---------+----+--------+----+--------------------+-------+\n",
      "|  5|Antioquia|5001|Medellín|2018|  Cabecera Municipal|2382399|\n",
      "|  5|Antioquia|5001|Medellín|2018|Centros Poblados ...|  44730|\n",
      "|  5|Antioquia|5001|Medellín|2018|               Total|2427129|\n",
      "|  5|Antioquia|5001|Medellín|2019|  Cabecera Municipal|2439470|\n",
      "|  5|Antioquia|5001|Medellín|2019|Centros Poblados ...|  44075|\n",
      "|  5|Antioquia|5001|Medellín|2019|               Total|2483545|\n",
      "|  5|Antioquia|5001|Medellín|2020|  Cabecera Municipal|2490164|\n",
      "|  5|Antioquia|5001|Medellín|2020|Centros Poblados ...|  43260|\n",
      "|  5|Antioquia|5001|Medellín|2020|               Total|2533424|\n",
      "|  5|Antioquia|5001|Medellín|2021|  Cabecera Municipal|2530461|\n",
      "|  5|Antioquia|5001|Medellín|2021|Centros Poblados ...|  42759|\n",
      "|  5|Antioquia|5001|Medellín|2021|               Total|2573220|\n",
      "|  5|Antioquia|5001|Medellín|2022|  Cabecera Municipal|2570327|\n",
      "|  5|Antioquia|5001|Medellín|2022|Centros Poblados ...|  42631|\n",
      "|  5|Antioquia|5001|Medellín|2022|               Total|2612958|\n",
      "|  5|Antioquia|5001|Medellín|2023|  Cabecera Municipal|2611104|\n",
      "|  5|Antioquia|5001|Medellín|2023|Centros Poblados ...|  42625|\n",
      "|  5|Antioquia|5001|Medellín|2023|               Total|2653729|\n",
      "|  5|Antioquia|5001|Medellín|2024|  Cabecera Municipal|2657772|\n",
      "|  5|Antioquia|5001|Medellín|2024|Centros Poblados ...|  42671|\n",
      "+---+---------+----+--------+----+--------------------+-------+\n",
      "only showing top 20 rows\n",
      "\n"
     ]
    }
   ],
   "source": [
    "df.show()"
   ]
  },
  {
   "cell_type": "markdown",
   "metadata": {},
   "source": [
    "# Descripción de Columnas y Registros."
   ]
  },
  {
   "cell_type": "code",
   "execution_count": 3,
   "metadata": {},
   "outputs": [
    {
     "data": {
      "text/plain": [
       "60588"
      ]
     },
     "execution_count": 3,
     "metadata": {},
     "output_type": "execute_result"
    }
   ],
   "source": [
    "df.count()"
   ]
  },
  {
   "cell_type": "code",
   "execution_count": 4,
   "metadata": {},
   "outputs": [
    {
     "data": {
      "text/plain": [
       "7"
      ]
     },
     "execution_count": 4,
     "metadata": {},
     "output_type": "execute_result"
    }
   ],
   "source": [
    "len(df.columns)"
   ]
  },
  {
   "cell_type": "code",
   "execution_count": 5,
   "metadata": {},
   "outputs": [
    {
     "data": {
      "text/plain": [
       "['DP', 'DPNOM', 'DPMP', 'MPIO', 'AÑO', 'ÁREA GEOGRÁFICA', 'Total']"
      ]
     },
     "execution_count": 5,
     "metadata": {},
     "output_type": "execute_result"
    }
   ],
   "source": [
    "df.columns"
   ]
  },
  {
   "cell_type": "code",
   "execution_count": 6,
   "metadata": {},
   "outputs": [
    {
     "name": "stdout",
     "output_type": "stream",
     "text": [
      "+---+-----+----+----+---+---------------+-----+\n",
      "| DP|DPNOM|DPMP|MPIO|AÑO|ÁREA GEOGRÁFICA|Total|\n",
      "+---+-----+----+----+---+---------------+-----+\n",
      "|  0|    0|   0|   0|  0|              0|    0|\n",
      "+---+-----+----+----+---+---------------+-----+\n",
      "\n"
     ]
    }
   ],
   "source": [
    "df.select([count(when(isnan(c), c)).alias(c) for c in df.columns]).show()"
   ]
  },
  {
   "cell_type": "markdown",
   "metadata": {},
   "source": [
    "En total se tiene **60.588** registros y **7** columnas. Sin datos faltantes."
   ]
  },
  {
   "cell_type": "markdown",
   "metadata": {},
   "source": [
    "## DP \n",
    "\n",
    "La columna **DP**, es un dato categórico  que hace referencia al código único por cada departamento de Colombia.\n",
    "\n",
    "En total son **33** codigos únicos, sin datos faltantes."
   ]
  },
  {
   "cell_type": "code",
   "execution_count": 7,
   "metadata": {},
   "outputs": [
    {
     "data": {
      "text/plain": [
       "33"
      ]
     },
     "execution_count": 7,
     "metadata": {},
     "output_type": "execute_result"
    }
   ],
   "source": [
    "df.groupBy('DP').count().orderBy('DP').count()"
   ]
  },
  {
   "cell_type": "markdown",
   "metadata": {},
   "source": [
    "Número de registros por categória de **DP**."
   ]
  },
  {
   "cell_type": "code",
   "execution_count": 8,
   "metadata": {},
   "outputs": [
    {
     "name": "stdout",
     "output_type": "stream",
     "text": [
      "+---+-----+\n",
      "| DP|count|\n",
      "+---+-----+\n",
      "|  5| 6750|\n",
      "|  8| 1242|\n",
      "| 11|   54|\n",
      "| 13| 2484|\n",
      "| 15| 6642|\n",
      "| 17| 1458|\n",
      "| 18|  864|\n",
      "| 19| 2268|\n",
      "| 20| 1350|\n",
      "| 23| 1620|\n",
      "| 25| 6264|\n",
      "| 27| 1620|\n",
      "| 41| 1998|\n",
      "| 44|  810|\n",
      "| 47| 1620|\n",
      "| 50| 1566|\n",
      "| 52| 3456|\n",
      "| 54| 2160|\n",
      "| 63|  648|\n",
      "| 66|  756|\n",
      "+---+-----+\n",
      "only showing top 20 rows\n",
      "\n"
     ]
    }
   ],
   "source": [
    "df.groupBy('DP').count().orderBy('DP').show()"
   ]
  },
  {
   "cell_type": "markdown",
   "metadata": {},
   "source": [
    "## DPNOM\n",
    "\n",
    "La columna **DPNOM**, es un dato categórico que hace referencia al nombre de cada departamento de Colombia.\n",
    "\n",
    "En total son **35** nombres, sin datos faltantes."
   ]
  },
  {
   "cell_type": "code",
   "execution_count": 9,
   "metadata": {},
   "outputs": [
    {
     "data": {
      "text/plain": [
       "35"
      ]
     },
     "execution_count": 9,
     "metadata": {},
     "output_type": "execute_result"
    }
   ],
   "source": [
    "df.groupBy('DPNOM').count().orderBy('DPNOM').count()"
   ]
  },
  {
   "cell_type": "markdown",
   "metadata": {},
   "source": [
    "Número de registros por categória de **DPNOM**."
   ]
  },
  {
   "cell_type": "code",
   "execution_count": 10,
   "metadata": {},
   "outputs": [
    {
     "name": "stdout",
     "output_type": "stream",
     "text": [
      "+--------------------+-----+\n",
      "|               DPNOM|count|\n",
      "+--------------------+-----+\n",
      "|            Amazonas|  594|\n",
      "|           Antioquia| 6750|\n",
      "|              Arauca|  378|\n",
      "|Archipiélago de S...|   36|\n",
      "|Archipiélago de S...|   72|\n",
      "|           Atlántico| 1242|\n",
      "|        Bogotá, D.C.|   54|\n",
      "|             Bolívar| 2484|\n",
      "|              Boyacá| 6642|\n",
      "|              Caldas| 1458|\n",
      "|             Caquetá|  864|\n",
      "|            Casanare| 1026|\n",
      "|               Cauca| 2268|\n",
      "|               Cesar| 1350|\n",
      "|               Chocó| 1620|\n",
      "|        Cundinamarca| 6264|\n",
      "|             Córdoba| 1620|\n",
      "|             Guainía|  486|\n",
      "|            Guaviare|  216|\n",
      "|               Huila| 1998|\n",
      "+--------------------+-----+\n",
      "only showing top 20 rows\n",
      "\n"
     ]
    }
   ],
   "source": [
    "df.groupBy('DPNOM').count().orderBy('DPNOM').show()"
   ]
  },
  {
   "cell_type": "markdown",
   "metadata": {},
   "source": [
    "# DPMP\n",
    "\n",
    "La columna **DPMP**, es un dato categórico que hace referencia al código único de cada municipio de Colombia.\n",
    "\n",
    "En total son **1122** codigos únicos, sin datos faltantes."
   ]
  },
  {
   "cell_type": "code",
   "execution_count": 11,
   "metadata": {},
   "outputs": [
    {
     "data": {
      "text/plain": [
       "1122"
      ]
     },
     "execution_count": 11,
     "metadata": {},
     "output_type": "execute_result"
    }
   ],
   "source": [
    "df.groupBy('DPMP').count().orderBy('DPMP').count()"
   ]
  },
  {
   "cell_type": "markdown",
   "metadata": {},
   "source": [
    "Número de registros por categória de **DPMP**."
   ]
  },
  {
   "cell_type": "code",
   "execution_count": 12,
   "metadata": {},
   "outputs": [
    {
     "name": "stdout",
     "output_type": "stream",
     "text": [
      "+----+-----+\n",
      "|DPMP|count|\n",
      "+----+-----+\n",
      "|5001|   54|\n",
      "|5002|   54|\n",
      "|5004|   54|\n",
      "|5021|   54|\n",
      "|5030|   54|\n",
      "|5031|   54|\n",
      "|5034|   54|\n",
      "|5036|   54|\n",
      "|5038|   54|\n",
      "|5040|   54|\n",
      "|5042|   54|\n",
      "|5044|   54|\n",
      "|5045|   54|\n",
      "|5051|   54|\n",
      "|5055|   54|\n",
      "|5059|   54|\n",
      "|5079|   54|\n",
      "|5086|   54|\n",
      "|5088|   54|\n",
      "|5091|   54|\n",
      "+----+-----+\n",
      "only showing top 20 rows\n",
      "\n"
     ]
    }
   ],
   "source": [
    "df.groupBy('DPMP').count().orderBy('DPMP').show()"
   ]
  },
  {
   "cell_type": "markdown",
   "metadata": {},
   "source": [
    "## MPIO\n",
    "\n",
    "La columna **MPIO**, es un dato categórico que hace referencia al código único de cada municipio de Colombia.\n",
    "\n",
    "En total son **1049** nombres únicos, sin datos faltantes."
   ]
  },
  {
   "cell_type": "code",
   "execution_count": 13,
   "metadata": {},
   "outputs": [
    {
     "data": {
      "text/plain": [
       "1049"
      ]
     },
     "execution_count": 13,
     "metadata": {},
     "output_type": "execute_result"
    }
   ],
   "source": [
    "df.groupBy('MPIO').count().orderBy('MPIO').count()"
   ]
  },
  {
   "cell_type": "markdown",
   "metadata": {},
   "source": [
    "Número de registros por categória de **MPIO**."
   ]
  },
  {
   "cell_type": "code",
   "execution_count": 14,
   "metadata": {},
   "outputs": [
    {
     "name": "stdout",
     "output_type": "stream",
     "text": [
      "+---------------+-----+\n",
      "|           MPIO|count|\n",
      "+---------------+-----+\n",
      "|      Abejorral|   54|\n",
      "|       Abriaquí|   54|\n",
      "|        Acacías|   54|\n",
      "|         Acandí|   54|\n",
      "|        Acevedo|   54|\n",
      "|           Achí|   54|\n",
      "|         Agrado|   54|\n",
      "|   Agua de Dios|   54|\n",
      "|      Aguachica|   54|\n",
      "|         Aguada|   54|\n",
      "|        Aguadas|   54|\n",
      "|        Aguazul|   54|\n",
      "|Agustín Codazzi|   54|\n",
      "|           Aipe|   54|\n",
      "|        Albania|  162|\n",
      "|          Albán|  108|\n",
      "|         Alcalá|   54|\n",
      "|         Aldana|   54|\n",
      "|     Alejandría|   54|\n",
      "|      Algarrobo|   54|\n",
      "+---------------+-----+\n",
      "only showing top 20 rows\n",
      "\n"
     ]
    }
   ],
   "source": [
    "df.groupBy('MPIO').count().orderBy('MPIO').show()"
   ]
  },
  {
   "cell_type": "markdown",
   "metadata": {},
   "source": [
    "## AÑO\n",
    "\n",
    "La columna **AÑO**, es un dato categórico que hace referencia al año para cual se hace la estimación de la publación de los municipios, para el **2018** es el año del censo del pais.\n",
    "\n",
    "En total son **18** años diferentes, desde el **2018** al **2035**, sin datos faltantes."
   ]
  },
  {
   "cell_type": "code",
   "execution_count": 15,
   "metadata": {},
   "outputs": [
    {
     "data": {
      "text/plain": [
       "18"
      ]
     },
     "execution_count": 15,
     "metadata": {},
     "output_type": "execute_result"
    }
   ],
   "source": [
    "df.groupBy('AÑO').count().orderBy('AÑO').count()"
   ]
  },
  {
   "cell_type": "markdown",
   "metadata": {},
   "source": [
    "Número de registros por categória de **AÑO**."
   ]
  },
  {
   "cell_type": "code",
   "execution_count": 16,
   "metadata": {},
   "outputs": [
    {
     "name": "stdout",
     "output_type": "stream",
     "text": [
      "+----+-----+\n",
      "| AÑO|count|\n",
      "+----+-----+\n",
      "|2018| 3366|\n",
      "|2019| 3366|\n",
      "|2020| 3366|\n",
      "|2021| 3366|\n",
      "|2022| 3366|\n",
      "|2023| 3366|\n",
      "|2024| 3366|\n",
      "|2025| 3366|\n",
      "|2026| 3366|\n",
      "|2027| 3366|\n",
      "|2028| 3366|\n",
      "|2029| 3366|\n",
      "|2030| 3366|\n",
      "|2031| 3366|\n",
      "|2032| 3366|\n",
      "|2033| 3366|\n",
      "|2034| 3366|\n",
      "|2035| 3366|\n",
      "+----+-----+\n",
      "\n"
     ]
    }
   ],
   "source": [
    "df.groupBy('AÑO').count().orderBy('AÑO').show()"
   ]
  },
  {
   "cell_type": "markdown",
   "metadata": {},
   "source": [
    "## ÁREA GEOGRÁFICA\n",
    "\n",
    "La columna **ÁREA GEOGRÁFICA**, es un dato categórico que hace referencia a tres tipos de población que se puede encontrar por municipio, **Cabecera Municipal** que son las poblaciones principales de cada municipio, **Centros Poblados y Rural Disperso**, que son las partes alejadas de los municipios y **Total** es la población compuesta por las dos categórias anteriores.\n",
    "\n",
    "En total son **3** codigos únicos, sin datos faltantes."
   ]
  },
  {
   "cell_type": "code",
   "execution_count": 17,
   "metadata": {},
   "outputs": [
    {
     "data": {
      "text/plain": [
       "3"
      ]
     },
     "execution_count": 17,
     "metadata": {},
     "output_type": "execute_result"
    }
   ],
   "source": [
    "df.groupBy('ÁREA GEOGRÁFICA').count().orderBy('ÁREA GEOGRÁFICA').count()"
   ]
  },
  {
   "cell_type": "markdown",
   "metadata": {},
   "source": [
    "Número de registros por categória de **ÁREA GEOGRÁFICA**."
   ]
  },
  {
   "cell_type": "code",
   "execution_count": 18,
   "metadata": {},
   "outputs": [
    {
     "name": "stdout",
     "output_type": "stream",
     "text": [
      "+--------------------+-----+\n",
      "|     ÁREA GEOGRÁFICA|count|\n",
      "+--------------------+-----+\n",
      "|  Cabecera Municipal|20196|\n",
      "|Centros Poblados ...|20196|\n",
      "|               Total|20196|\n",
      "+--------------------+-----+\n",
      "\n"
     ]
    }
   ],
   "source": [
    "df.groupBy('ÁREA GEOGRÁFICA').count().orderBy('ÁREA GEOGRÁFICA').show()"
   ]
  },
  {
   "cell_type": "markdown",
   "metadata": {},
   "source": [
    "## Total\n",
    "\n",
    "La columna **Total**, es un dato numérico que dice el total de población por municipio, si nvalores faltantes.\n",
    "\n",
    "Con las siguientes estadísticas: \n",
    "\n",
    "    - valor mínimo: 0\n",
    "    - valor máximo: 8,726,402\n",
    "    - media: 31,928.8685\n",
    "    - mediana: 8,282\n",
    "    - desviación estándar: 229,113.9358"
   ]
  },
  {
   "cell_type": "code",
   "execution_count": 19,
   "metadata": {},
   "outputs": [
    {
     "data": {
      "text/plain": [
       "0"
      ]
     },
     "execution_count": 19,
     "metadata": {},
     "output_type": "execute_result"
    }
   ],
   "source": [
    "df.toPandas().Total.min()"
   ]
  },
  {
   "cell_type": "code",
   "execution_count": 20,
   "metadata": {},
   "outputs": [
    {
     "data": {
      "text/plain": [
       "8726402"
      ]
     },
     "execution_count": 20,
     "metadata": {},
     "output_type": "execute_result"
    }
   ],
   "source": [
    "df.toPandas().Total.max()"
   ]
  },
  {
   "cell_type": "code",
   "execution_count": 21,
   "metadata": {},
   "outputs": [
    {
     "data": {
      "text/plain": [
       "31928.86855482934"
      ]
     },
     "execution_count": 21,
     "metadata": {},
     "output_type": "execute_result"
    }
   ],
   "source": [
    "df.toPandas().Total.mean()"
   ]
  },
  {
   "cell_type": "code",
   "execution_count": 22,
   "metadata": {},
   "outputs": [
    {
     "data": {
      "text/plain": [
       "8282.0"
      ]
     },
     "execution_count": 22,
     "metadata": {},
     "output_type": "execute_result"
    }
   ],
   "source": [
    "df.toPandas().Total.median()"
   ]
  },
  {
   "cell_type": "code",
   "execution_count": 23,
   "metadata": {},
   "outputs": [
    {
     "data": {
      "text/plain": [
       "229113.93587380007"
      ]
     },
     "execution_count": 23,
     "metadata": {},
     "output_type": "execute_result"
    }
   ],
   "source": [
    "df.toPandas().Total.std()"
   ]
  },
  {
   "cell_type": "markdown",
   "metadata": {},
   "source": [
    "# Datos de Interés\n",
    "\n",
    "Como primera aproximación a la integración de esta fuente de datos externa, se quiere utilizar los datos del **Año 2018**, ya que para este periodo de tiempo es para cual se tiene la última actualización de los datos de aeropuertos de la **Etapa 3**. \n",
    "\n",
    "Por otro lado, para este análisis inicial solo es necesario tener la información del total de la población por municipio, por lo que se van a usar los datos **Total** de la columna **ÁREA GEOGRÁFICA**. A continuación, se muestran los datos de interés para el análisis: \n"
   ]
  },
  {
   "cell_type": "code",
   "execution_count": 24,
   "metadata": {},
   "outputs": [
    {
     "name": "stdout",
     "output_type": "stream",
     "text": [
      "+---+---------+----+--------------------+----+---------------+-------+\n",
      "| DP|    DPNOM|DPMP|                MPIO| AÑO|ÁREA GEOGRÁFICA|  Total|\n",
      "+---+---------+----+--------------------+----+---------------+-------+\n",
      "|  5|Antioquia|5001|            Medellín|2018|          Total|2427129|\n",
      "|  5|Antioquia|5002|           Abejorral|2018|          Total|  20367|\n",
      "|  5|Antioquia|5004|            Abriaquí|2018|          Total|   2695|\n",
      "|  5|Antioquia|5021|          Alejandría|2018|          Total|   4657|\n",
      "|  5|Antioquia|5030|               Amagá|2018|          Total|  30227|\n",
      "|  5|Antioquia|5031|              Amalfi|2018|          Total|  25962|\n",
      "|  5|Antioquia|5034|               Andes|2018|          Total|  43269|\n",
      "|  5|Antioquia|5036|         Angelópolis|2018|          Total|   5756|\n",
      "|  5|Antioquia|5038|           Angostura|2018|          Total|  11437|\n",
      "|  5|Antioquia|5040|               Anorí|2018|          Total|  18321|\n",
      "|  5|Antioquia|5042|Santafé de Antioquia|2018|          Total|  26164|\n",
      "|  5|Antioquia|5044|                Anzá|2018|          Total|   7010|\n",
      "|  5|Antioquia|5045|            Apartadó|2018|          Total| 121003|\n",
      "|  5|Antioquia|5051|           Arboletes|2018|          Total|  29295|\n",
      "|  5|Antioquia|5055|             Argelia|2018|          Total|   7689|\n",
      "|  5|Antioquia|5059|             Armenia|2018|          Total|   5139|\n",
      "|  5|Antioquia|5079|             Barbosa|2018|          Total|  51969|\n",
      "|  5|Antioquia|5086|             Belmira|2018|          Total|   6000|\n",
      "|  5|Antioquia|5088|               Bello|2018|          Total| 522264|\n",
      "|  5|Antioquia|5091|             Betania|2018|          Total|  10323|\n",
      "+---+---------+----+--------------------+----+---------------+-------+\n",
      "only showing top 20 rows\n",
      "\n"
     ]
    }
   ],
   "source": [
    "df_int = df.filter((df.AÑO == 2018) & (df['ÁREA GEOGRÁFICA'] == 'Total'))\n",
    "df_int.show()"
   ]
  },
  {
   "cell_type": "markdown",
   "metadata": {},
   "source": [
    "# Perfilamiento de los Datos de Interés\n",
    "\n",
    "Por lo anterior para la columna **AÑO** ahora solo se tiene el valor **2018** y para la columna **ÁREA GEOGRÁFICA**, solo se tiene el valor **Total**. Las otras columnas se vieron afectadas así:"
   ]
  },
  {
   "cell_type": "markdown",
   "metadata": {},
   "source": [
    "# DPMP\n",
    "\n",
    "La columna **DPMP**, es un dato categórico que hace referencia al código único de cada municipio de Colombia.\n",
    "\n",
    "En total son **1122** codigos únicos, sin datos faltantes."
   ]
  },
  {
   "cell_type": "code",
   "execution_count": 25,
   "metadata": {},
   "outputs": [
    {
     "data": {
      "text/plain": [
       "1122"
      ]
     },
     "execution_count": 25,
     "metadata": {},
     "output_type": "execute_result"
    }
   ],
   "source": [
    "df_int.groupBy('DPMP').count().orderBy('DPMP').count()"
   ]
  },
  {
   "cell_type": "markdown",
   "metadata": {},
   "source": [
    "Número de registros por categória de **DPMP**."
   ]
  },
  {
   "cell_type": "code",
   "execution_count": 26,
   "metadata": {},
   "outputs": [
    {
     "name": "stdout",
     "output_type": "stream",
     "text": [
      "+----+-----+\n",
      "|DPMP|count|\n",
      "+----+-----+\n",
      "|5001|    1|\n",
      "|5002|    1|\n",
      "|5004|    1|\n",
      "|5021|    1|\n",
      "|5030|    1|\n",
      "|5031|    1|\n",
      "|5034|    1|\n",
      "|5036|    1|\n",
      "|5038|    1|\n",
      "|5040|    1|\n",
      "|5042|    1|\n",
      "|5044|    1|\n",
      "|5045|    1|\n",
      "|5051|    1|\n",
      "|5055|    1|\n",
      "|5059|    1|\n",
      "|5079|    1|\n",
      "|5086|    1|\n",
      "|5088|    1|\n",
      "|5091|    1|\n",
      "+----+-----+\n",
      "only showing top 20 rows\n",
      "\n"
     ]
    }
   ],
   "source": [
    "df_int.groupBy('DPMP').count().orderBy('DPMP').show()"
   ]
  },
  {
   "cell_type": "markdown",
   "metadata": {},
   "source": [
    "## MPIO\n",
    "\n",
    "La columna **MPIO**, es un dato categórico que hace referencia al código único de cada municipio de Colombia.\n",
    "\n",
    "En total son **1039** nombres únicos, sin datos faltantes."
   ]
  },
  {
   "cell_type": "code",
   "execution_count": 27,
   "metadata": {},
   "outputs": [
    {
     "data": {
      "text/plain": [
       "1039"
      ]
     },
     "execution_count": 27,
     "metadata": {},
     "output_type": "execute_result"
    }
   ],
   "source": [
    "df_int.groupBy('MPIO').count().orderBy('MPIO').count()"
   ]
  },
  {
   "cell_type": "markdown",
   "metadata": {},
   "source": [
    "Número de registros por categória de **MPIO**."
   ]
  },
  {
   "cell_type": "code",
   "execution_count": 28,
   "metadata": {},
   "outputs": [
    {
     "name": "stdout",
     "output_type": "stream",
     "text": [
      "+---------------+-----+\n",
      "|           MPIO|count|\n",
      "+---------------+-----+\n",
      "|      Abejorral|    1|\n",
      "|       Abriaquí|    1|\n",
      "|        Acacías|    1|\n",
      "|         Acandí|    1|\n",
      "|        Acevedo|    1|\n",
      "|           Achí|    1|\n",
      "|         Agrado|    1|\n",
      "|   Agua de Dios|    1|\n",
      "|      Aguachica|    1|\n",
      "|         Aguada|    1|\n",
      "|        Aguadas|    1|\n",
      "|        Aguazul|    1|\n",
      "|Agustín Codazzi|    1|\n",
      "|           Aipe|    1|\n",
      "|        Albania|    3|\n",
      "|          Albán|    2|\n",
      "|         Alcalá|    1|\n",
      "|         Aldana|    1|\n",
      "|     Alejandría|    1|\n",
      "|      Algarrobo|    1|\n",
      "+---------------+-----+\n",
      "only showing top 20 rows\n",
      "\n"
     ]
    }
   ],
   "source": [
    "df_int.groupBy('MPIO').count().orderBy('MPIO').show()"
   ]
  },
  {
   "cell_type": "markdown",
   "metadata": {},
   "source": [
    "## Total\n",
    "\n",
    "La columna **Total**, es un dato numérico que dice el total de población por municipio, si nvalores faltantes.\n",
    "\n",
    "Con las siguientes estadísticas: \n",
    "\n",
    "    - valor mínimo: 279\n",
    "    - valor máximo: 7,412,566\n",
    "    - media: 43,011.1354\n",
    "    - mediana: 12,765.5\n",
    "    - desviación estándar: 253,826.2070"
   ]
  },
  {
   "cell_type": "code",
   "execution_count": 29,
   "metadata": {},
   "outputs": [
    {
     "data": {
      "text/plain": [
       "279"
      ]
     },
     "execution_count": 29,
     "metadata": {},
     "output_type": "execute_result"
    }
   ],
   "source": [
    "df_int.toPandas().Total.min()"
   ]
  },
  {
   "cell_type": "code",
   "execution_count": 30,
   "metadata": {},
   "outputs": [
    {
     "data": {
      "text/plain": [
       "7412566"
      ]
     },
     "execution_count": 30,
     "metadata": {},
     "output_type": "execute_result"
    }
   ],
   "source": [
    "df_int.toPandas().Total.max()"
   ]
  },
  {
   "cell_type": "code",
   "execution_count": 31,
   "metadata": {},
   "outputs": [
    {
     "data": {
      "text/plain": [
       "43011.13547237077"
      ]
     },
     "execution_count": 31,
     "metadata": {},
     "output_type": "execute_result"
    }
   ],
   "source": [
    "df_int.toPandas().Total.mean()"
   ]
  },
  {
   "cell_type": "code",
   "execution_count": 32,
   "metadata": {},
   "outputs": [
    {
     "data": {
      "text/plain": [
       "12765.5"
      ]
     },
     "execution_count": 32,
     "metadata": {},
     "output_type": "execute_result"
    }
   ],
   "source": [
    "df_int.toPandas().Total.median()"
   ]
  },
  {
   "cell_type": "code",
   "execution_count": 33,
   "metadata": {},
   "outputs": [
    {
     "data": {
      "text/plain": [
       "253826.2070286036"
      ]
     },
     "execution_count": 33,
     "metadata": {},
     "output_type": "execute_result"
    }
   ],
   "source": [
    "df_int.toPandas().Total.std()"
   ]
  },
  {
   "cell_type": "markdown",
   "metadata": {},
   "source": [
    "# Visualización de los datos de interés.\n",
    "\n",
    "A continuación se observa cómo se distribuyen los datos de principal interés para el análisis."
   ]
  },
  {
   "cell_type": "code",
   "execution_count": 34,
   "metadata": {
    "scrolled": false
   },
   "outputs": [
    {
     "data": {
      "image/png": "[encoded data removed]",
      "text/plain": [
       "<Figure size 1152x576 with 1 Axes>"
      ]
     },
     "metadata": {
      "needs_background": "light"
     },
     "output_type": "display_data"
    }
   ],
   "source": [
    "fig_dims = (16, 8)\n",
    "fig, ax = plt.subplots(figsize=fig_dims)\n",
    "\n",
    "sns.barplot(x=\"MPIO\", y=\"Total\", data=df_int.toPandas().sort_values(by=['Total'], ascending=False)[:50], ax=ax)\n",
    "\n",
    "ax.tick_params(axis='x', rotation=90)"
   ]
  },
  {
   "cell_type": "code",
   "execution_count": 35,
   "metadata": {},
   "outputs": [],
   "source": [
    "df_int.toPandas().to_csv('./data/Población_municipio_2018.csv')"
   ]
  },
  {
   "cell_type": "code",
   "execution_count": null,
   "metadata": {},
   "outputs": [],
   "source": []
  }
 ],
 "metadata": {
  "kernelspec": {
   "display_name": "Python 3",
   "language": "python",
   "name": "python3"
  },
  "language_info": {
   "codemirror_mode": {
    "name": "ipython",
    "version": 3
   },
   "file_extension": ".py",
   "mimetype": "text/x-python",
   "name": "python",
   "nbconvert_exporter": "python",
   "pygments_lexer": "ipython3",
   "version": "3.9.4"
  }
 },
 "nbformat": 4,
 "nbformat_minor": 2
}
